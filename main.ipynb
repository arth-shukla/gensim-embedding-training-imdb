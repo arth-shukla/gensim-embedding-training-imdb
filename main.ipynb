{
  "cells": [
    {
      "cell_type": "markdown",
      "metadata": {
        "id": "FYTZ-x5qa0y7"
      },
      "source": [
        "# IMDB Review Sentiment Analysis"
      ]
    },
    {
      "cell_type": "code",
      "source": [
        "import tensorflow as tf"
      ],
      "metadata": {
        "id": "OdoJeUsw5Fji"
      },
      "execution_count": 29,
      "outputs": []
    },
    {
      "cell_type": "code",
      "source": [
        "print(\"Num GPUs Available: \", len(tf.config.list_physical_devices('GPU')))"
      ],
      "metadata": {
        "colab": {
          "base_uri": "https://localhost:8080/"
        },
        "id": "VexhlvIc5Or3",
        "outputId": "87edf362-feea-46d4-9b42-0bb6789c6f66"
      },
      "execution_count": 30,
      "outputs": [
        {
          "output_type": "stream",
          "name": "stdout",
          "text": [
            "Num GPUs Available:  1\n"
          ]
        }
      ]
    },
    {
      "cell_type": "code",
      "source": [
        "# uncomment if using colab\n",
        "# !unzip data.zip"
      ],
      "metadata": {
        "id": "tcChYIjJ5xRH"
      },
      "execution_count": 31,
      "outputs": []
    },
    {
      "cell_type": "code",
      "source": [
        "# uncomment if using colab\n",
        "# !wget https://nlp.stanford.edu/data/glove.6B.zip"
      ],
      "metadata": {
        "id": "npkB9bVv6XPd"
      },
      "execution_count": 32,
      "outputs": []
    },
    {
      "cell_type": "code",
      "source": [
        "# uncomment if using colab\n",
        "# !unzip glove.6B.zip -d glove.6B\n",
        "# !cp glove.6B/glove.6B.100d.txt ./glove.6B.100d.txt"
      ],
      "metadata": {
        "id": "DUhd2WUi6bLc"
      },
      "execution_count": 33,
      "outputs": []
    },
    {
      "cell_type": "markdown",
      "metadata": {
        "id": "_ybWbh7Xa0y9"
      },
      "source": [
        "## Dataset and Exploration"
      ]
    },
    {
      "cell_type": "code",
      "execution_count": 34,
      "metadata": {
        "id": "x81UBNQ9a0y8"
      },
      "outputs": [],
      "source": [
        "import pandas as pd"
      ]
    },
    {
      "cell_type": "code",
      "execution_count": 35,
      "metadata": {
        "id": "s93hN8e3a0y9"
      },
      "outputs": [],
      "source": [
        "df = pd.read_csv('./data/IMDB_Dataset.csv')"
      ]
    },
    {
      "cell_type": "code",
      "execution_count": 36,
      "metadata": {
        "id": "er7K4C7Ba0y9",
        "outputId": "e1fdb910-11fb-42a9-9552-bd4ff8533de1",
        "colab": {
          "base_uri": "https://localhost:8080/"
        }
      },
      "outputs": [
        {
          "output_type": "execute_result",
          "data": {
            "text/plain": [
              "(50000, 2)"
            ]
          },
          "metadata": {},
          "execution_count": 36
        }
      ],
      "source": [
        "df.shape"
      ]
    },
    {
      "cell_type": "code",
      "execution_count": 37,
      "metadata": {
        "id": "x54rpy3ia0y9",
        "outputId": "608fe2f9-c5f2-4f70-ecf0-5e4a396e0d72",
        "colab": {
          "base_uri": "https://localhost:8080/",
          "height": 206
        }
      },
      "outputs": [
        {
          "output_type": "execute_result",
          "data": {
            "text/plain": [
              "                                              review sentiment\n",
              "0  One of the other reviewers has mentioned that ...  positive\n",
              "1  A wonderful little production. <br /><br />The...  positive\n",
              "2  I thought this was a wonderful way to spend ti...  positive\n",
              "3  Basically there's a family where a little boy ...  negative\n",
              "4  Petter Mattei's \"Love in the Time of Money\" is...  positive"
            ],
            "text/html": [
              "\n",
              "  <div id=\"df-ebff8a5b-e733-4016-b538-8d2e29ebc08d\">\n",
              "    <div class=\"colab-df-container\">\n",
              "      <div>\n",
              "<style scoped>\n",
              "    .dataframe tbody tr th:only-of-type {\n",
              "        vertical-align: middle;\n",
              "    }\n",
              "\n",
              "    .dataframe tbody tr th {\n",
              "        vertical-align: top;\n",
              "    }\n",
              "\n",
              "    .dataframe thead th {\n",
              "        text-align: right;\n",
              "    }\n",
              "</style>\n",
              "<table border=\"1\" class=\"dataframe\">\n",
              "  <thead>\n",
              "    <tr style=\"text-align: right;\">\n",
              "      <th></th>\n",
              "      <th>review</th>\n",
              "      <th>sentiment</th>\n",
              "    </tr>\n",
              "  </thead>\n",
              "  <tbody>\n",
              "    <tr>\n",
              "      <th>0</th>\n",
              "      <td>One of the other reviewers has mentioned that ...</td>\n",
              "      <td>positive</td>\n",
              "    </tr>\n",
              "    <tr>\n",
              "      <th>1</th>\n",
              "      <td>A wonderful little production. &lt;br /&gt;&lt;br /&gt;The...</td>\n",
              "      <td>positive</td>\n",
              "    </tr>\n",
              "    <tr>\n",
              "      <th>2</th>\n",
              "      <td>I thought this was a wonderful way to spend ti...</td>\n",
              "      <td>positive</td>\n",
              "    </tr>\n",
              "    <tr>\n",
              "      <th>3</th>\n",
              "      <td>Basically there's a family where a little boy ...</td>\n",
              "      <td>negative</td>\n",
              "    </tr>\n",
              "    <tr>\n",
              "      <th>4</th>\n",
              "      <td>Petter Mattei's \"Love in the Time of Money\" is...</td>\n",
              "      <td>positive</td>\n",
              "    </tr>\n",
              "  </tbody>\n",
              "</table>\n",
              "</div>\n",
              "      <button class=\"colab-df-convert\" onclick=\"convertToInteractive('df-ebff8a5b-e733-4016-b538-8d2e29ebc08d')\"\n",
              "              title=\"Convert this dataframe to an interactive table.\"\n",
              "              style=\"display:none;\">\n",
              "        \n",
              "  <svg xmlns=\"http://www.w3.org/2000/svg\" height=\"24px\"viewBox=\"0 0 24 24\"\n",
              "       width=\"24px\">\n",
              "    <path d=\"M0 0h24v24H0V0z\" fill=\"none\"/>\n",
              "    <path d=\"M18.56 5.44l.94 2.06.94-2.06 2.06-.94-2.06-.94-.94-2.06-.94 2.06-2.06.94zm-11 1L8.5 8.5l.94-2.06 2.06-.94-2.06-.94L8.5 2.5l-.94 2.06-2.06.94zm10 10l.94 2.06.94-2.06 2.06-.94-2.06-.94-.94-2.06-.94 2.06-2.06.94z\"/><path d=\"M17.41 7.96l-1.37-1.37c-.4-.4-.92-.59-1.43-.59-.52 0-1.04.2-1.43.59L10.3 9.45l-7.72 7.72c-.78.78-.78 2.05 0 2.83L4 21.41c.39.39.9.59 1.41.59.51 0 1.02-.2 1.41-.59l7.78-7.78 2.81-2.81c.8-.78.8-2.07 0-2.86zM5.41 20L4 18.59l7.72-7.72 1.47 1.35L5.41 20z\"/>\n",
              "  </svg>\n",
              "      </button>\n",
              "      \n",
              "  <style>\n",
              "    .colab-df-container {\n",
              "      display:flex;\n",
              "      flex-wrap:wrap;\n",
              "      gap: 12px;\n",
              "    }\n",
              "\n",
              "    .colab-df-convert {\n",
              "      background-color: #E8F0FE;\n",
              "      border: none;\n",
              "      border-radius: 50%;\n",
              "      cursor: pointer;\n",
              "      display: none;\n",
              "      fill: #1967D2;\n",
              "      height: 32px;\n",
              "      padding: 0 0 0 0;\n",
              "      width: 32px;\n",
              "    }\n",
              "\n",
              "    .colab-df-convert:hover {\n",
              "      background-color: #E2EBFA;\n",
              "      box-shadow: 0px 1px 2px rgba(60, 64, 67, 0.3), 0px 1px 3px 1px rgba(60, 64, 67, 0.15);\n",
              "      fill: #174EA6;\n",
              "    }\n",
              "\n",
              "    [theme=dark] .colab-df-convert {\n",
              "      background-color: #3B4455;\n",
              "      fill: #D2E3FC;\n",
              "    }\n",
              "\n",
              "    [theme=dark] .colab-df-convert:hover {\n",
              "      background-color: #434B5C;\n",
              "      box-shadow: 0px 1px 3px 1px rgba(0, 0, 0, 0.15);\n",
              "      filter: drop-shadow(0px 1px 2px rgba(0, 0, 0, 0.3));\n",
              "      fill: #FFFFFF;\n",
              "    }\n",
              "  </style>\n",
              "\n",
              "      <script>\n",
              "        const buttonEl =\n",
              "          document.querySelector('#df-ebff8a5b-e733-4016-b538-8d2e29ebc08d button.colab-df-convert');\n",
              "        buttonEl.style.display =\n",
              "          google.colab.kernel.accessAllowed ? 'block' : 'none';\n",
              "\n",
              "        async function convertToInteractive(key) {\n",
              "          const element = document.querySelector('#df-ebff8a5b-e733-4016-b538-8d2e29ebc08d');\n",
              "          const dataTable =\n",
              "            await google.colab.kernel.invokeFunction('convertToInteractive',\n",
              "                                                     [key], {});\n",
              "          if (!dataTable) return;\n",
              "\n",
              "          const docLinkHtml = 'Like what you see? Visit the ' +\n",
              "            '<a target=\"_blank\" href=https://colab.research.google.com/notebooks/data_table.ipynb>data table notebook</a>'\n",
              "            + ' to learn more about interactive tables.';\n",
              "          element.innerHTML = '';\n",
              "          dataTable['output_type'] = 'display_data';\n",
              "          await google.colab.output.renderOutput(dataTable, element);\n",
              "          const docLink = document.createElement('div');\n",
              "          docLink.innerHTML = docLinkHtml;\n",
              "          element.appendChild(docLink);\n",
              "        }\n",
              "      </script>\n",
              "    </div>\n",
              "  </div>\n",
              "  "
            ]
          },
          "metadata": {},
          "execution_count": 37
        }
      ],
      "source": [
        "df.head(5)"
      ]
    },
    {
      "cell_type": "code",
      "execution_count": 38,
      "metadata": {
        "id": "Bx3wgQ4xa0y9"
      },
      "outputs": [],
      "source": [
        "df.loc[df['sentiment'] == 'positive', 'sentiment'] = 1\n",
        "df.loc[df['sentiment'] == 'negative', 'sentiment'] = 0"
      ]
    },
    {
      "cell_type": "code",
      "execution_count": 39,
      "metadata": {
        "id": "I43GIVUFa0y9",
        "outputId": "4c9d4718-9272-44d3-d4db-05d9cebdfb4f",
        "colab": {
          "base_uri": "https://localhost:8080/",
          "height": 206
        }
      },
      "outputs": [
        {
          "output_type": "execute_result",
          "data": {
            "text/plain": [
              "                                              review sentiment\n",
              "0  One of the other reviewers has mentioned that ...         1\n",
              "1  A wonderful little production. <br /><br />The...         1\n",
              "2  I thought this was a wonderful way to spend ti...         1\n",
              "3  Basically there's a family where a little boy ...         0\n",
              "4  Petter Mattei's \"Love in the Time of Money\" is...         1"
            ],
            "text/html": [
              "\n",
              "  <div id=\"df-e6150a5d-3849-4a61-819a-be723f4a8995\">\n",
              "    <div class=\"colab-df-container\">\n",
              "      <div>\n",
              "<style scoped>\n",
              "    .dataframe tbody tr th:only-of-type {\n",
              "        vertical-align: middle;\n",
              "    }\n",
              "\n",
              "    .dataframe tbody tr th {\n",
              "        vertical-align: top;\n",
              "    }\n",
              "\n",
              "    .dataframe thead th {\n",
              "        text-align: right;\n",
              "    }\n",
              "</style>\n",
              "<table border=\"1\" class=\"dataframe\">\n",
              "  <thead>\n",
              "    <tr style=\"text-align: right;\">\n",
              "      <th></th>\n",
              "      <th>review</th>\n",
              "      <th>sentiment</th>\n",
              "    </tr>\n",
              "  </thead>\n",
              "  <tbody>\n",
              "    <tr>\n",
              "      <th>0</th>\n",
              "      <td>One of the other reviewers has mentioned that ...</td>\n",
              "      <td>1</td>\n",
              "    </tr>\n",
              "    <tr>\n",
              "      <th>1</th>\n",
              "      <td>A wonderful little production. &lt;br /&gt;&lt;br /&gt;The...</td>\n",
              "      <td>1</td>\n",
              "    </tr>\n",
              "    <tr>\n",
              "      <th>2</th>\n",
              "      <td>I thought this was a wonderful way to spend ti...</td>\n",
              "      <td>1</td>\n",
              "    </tr>\n",
              "    <tr>\n",
              "      <th>3</th>\n",
              "      <td>Basically there's a family where a little boy ...</td>\n",
              "      <td>0</td>\n",
              "    </tr>\n",
              "    <tr>\n",
              "      <th>4</th>\n",
              "      <td>Petter Mattei's \"Love in the Time of Money\" is...</td>\n",
              "      <td>1</td>\n",
              "    </tr>\n",
              "  </tbody>\n",
              "</table>\n",
              "</div>\n",
              "      <button class=\"colab-df-convert\" onclick=\"convertToInteractive('df-e6150a5d-3849-4a61-819a-be723f4a8995')\"\n",
              "              title=\"Convert this dataframe to an interactive table.\"\n",
              "              style=\"display:none;\">\n",
              "        \n",
              "  <svg xmlns=\"http://www.w3.org/2000/svg\" height=\"24px\"viewBox=\"0 0 24 24\"\n",
              "       width=\"24px\">\n",
              "    <path d=\"M0 0h24v24H0V0z\" fill=\"none\"/>\n",
              "    <path d=\"M18.56 5.44l.94 2.06.94-2.06 2.06-.94-2.06-.94-.94-2.06-.94 2.06-2.06.94zm-11 1L8.5 8.5l.94-2.06 2.06-.94-2.06-.94L8.5 2.5l-.94 2.06-2.06.94zm10 10l.94 2.06.94-2.06 2.06-.94-2.06-.94-.94-2.06-.94 2.06-2.06.94z\"/><path d=\"M17.41 7.96l-1.37-1.37c-.4-.4-.92-.59-1.43-.59-.52 0-1.04.2-1.43.59L10.3 9.45l-7.72 7.72c-.78.78-.78 2.05 0 2.83L4 21.41c.39.39.9.59 1.41.59.51 0 1.02-.2 1.41-.59l7.78-7.78 2.81-2.81c.8-.78.8-2.07 0-2.86zM5.41 20L4 18.59l7.72-7.72 1.47 1.35L5.41 20z\"/>\n",
              "  </svg>\n",
              "      </button>\n",
              "      \n",
              "  <style>\n",
              "    .colab-df-container {\n",
              "      display:flex;\n",
              "      flex-wrap:wrap;\n",
              "      gap: 12px;\n",
              "    }\n",
              "\n",
              "    .colab-df-convert {\n",
              "      background-color: #E8F0FE;\n",
              "      border: none;\n",
              "      border-radius: 50%;\n",
              "      cursor: pointer;\n",
              "      display: none;\n",
              "      fill: #1967D2;\n",
              "      height: 32px;\n",
              "      padding: 0 0 0 0;\n",
              "      width: 32px;\n",
              "    }\n",
              "\n",
              "    .colab-df-convert:hover {\n",
              "      background-color: #E2EBFA;\n",
              "      box-shadow: 0px 1px 2px rgba(60, 64, 67, 0.3), 0px 1px 3px 1px rgba(60, 64, 67, 0.15);\n",
              "      fill: #174EA6;\n",
              "    }\n",
              "\n",
              "    [theme=dark] .colab-df-convert {\n",
              "      background-color: #3B4455;\n",
              "      fill: #D2E3FC;\n",
              "    }\n",
              "\n",
              "    [theme=dark] .colab-df-convert:hover {\n",
              "      background-color: #434B5C;\n",
              "      box-shadow: 0px 1px 3px 1px rgba(0, 0, 0, 0.15);\n",
              "      filter: drop-shadow(0px 1px 2px rgba(0, 0, 0, 0.3));\n",
              "      fill: #FFFFFF;\n",
              "    }\n",
              "  </style>\n",
              "\n",
              "      <script>\n",
              "        const buttonEl =\n",
              "          document.querySelector('#df-e6150a5d-3849-4a61-819a-be723f4a8995 button.colab-df-convert');\n",
              "        buttonEl.style.display =\n",
              "          google.colab.kernel.accessAllowed ? 'block' : 'none';\n",
              "\n",
              "        async function convertToInteractive(key) {\n",
              "          const element = document.querySelector('#df-e6150a5d-3849-4a61-819a-be723f4a8995');\n",
              "          const dataTable =\n",
              "            await google.colab.kernel.invokeFunction('convertToInteractive',\n",
              "                                                     [key], {});\n",
              "          if (!dataTable) return;\n",
              "\n",
              "          const docLinkHtml = 'Like what you see? Visit the ' +\n",
              "            '<a target=\"_blank\" href=https://colab.research.google.com/notebooks/data_table.ipynb>data table notebook</a>'\n",
              "            + ' to learn more about interactive tables.';\n",
              "          element.innerHTML = '';\n",
              "          dataTable['output_type'] = 'display_data';\n",
              "          await google.colab.output.renderOutput(dataTable, element);\n",
              "          const docLink = document.createElement('div');\n",
              "          docLink.innerHTML = docLinkHtml;\n",
              "          element.appendChild(docLink);\n",
              "        }\n",
              "      </script>\n",
              "    </div>\n",
              "  </div>\n",
              "  "
            ]
          },
          "metadata": {},
          "execution_count": 39
        }
      ],
      "source": [
        "df.head(5)"
      ]
    },
    {
      "cell_type": "markdown",
      "metadata": {
        "id": "gUkRKXeLa0y-"
      },
      "source": [
        "## Preprocessing"
      ]
    },
    {
      "cell_type": "code",
      "execution_count": 40,
      "metadata": {
        "id": "6ifNIaBKa0y-",
        "outputId": "901d372b-ff2c-46fb-8167-da7fd304b0a8",
        "colab": {
          "base_uri": "https://localhost:8080/"
        }
      },
      "outputs": [
        {
          "output_type": "stream",
          "name": "stderr",
          "text": [
            "[nltk_data] Downloading package stopwords to /root/nltk_data...\n",
            "[nltk_data]   Unzipping corpora/stopwords.zip.\n",
            "[nltk_data] Downloading package wordnet to /root/nltk_data...\n",
            "[nltk_data] Downloading package omw-1.4 to /root/nltk_data...\n"
          ]
        },
        {
          "output_type": "execute_result",
          "data": {
            "text/plain": [
              "True"
            ]
          },
          "metadata": {},
          "execution_count": 40
        }
      ],
      "source": [
        "import re\n",
        "import nltk\n",
        "from nltk.corpus import stopwords\n",
        "from nltk.stem import WordNetLemmatizer\n",
        "from tqdm import tqdm\n",
        "nltk.download('stopwords')\n",
        "nltk.download('wordnet')\n",
        "nltk.download('omw-1.4')"
      ]
    },
    {
      "cell_type": "code",
      "execution_count": 41,
      "metadata": {
        "id": "X61kEtvOa0y-"
      },
      "outputs": [],
      "source": [
        "def clean_strings(df):\n",
        "    def remove_tags(text):\n",
        "        tag_pattern = re.compile(r'<[^>]+>')\n",
        "        return tag_pattern.sub('', text)\n",
        "    \n",
        "    def remove_stop_words(text):\n",
        "        stop_pattern = re.compile(r'\\b(' + r'|'.join(stopwords.words('english')) + r')\\b\\s*')\n",
        "        return stop_pattern.sub('', text)\n",
        "\n",
        "    corpus = []\n",
        "    text_data = ''\n",
        "    for i in tqdm(range(len(df.index)), ascii=False, ncols=100):\n",
        "        \n",
        "        # remove html tags (since this is webscraped)\n",
        "        text_data = remove_tags(df['review'][i])\n",
        "\n",
        "        # remove any non-text characters\n",
        "        text_data = re.sub('[^a-zA-Z]', ' ', text_data)\n",
        "\n",
        "        # lowercase\n",
        "        text_data = text_data.lower()\n",
        "\n",
        "        # remove stopwords\n",
        "        text_data = remove_stop_words(text_data)\n",
        "        \n",
        "        # lower case and make array\n",
        "        text_data = text_data.split()\n",
        "\n",
        "        # lemmatize each word\n",
        "        wl = WordNetLemmatizer()\n",
        "        text_data = [wl.lemmatize(word) for word in text_data]\n",
        "\n",
        "        # append to corpus\n",
        "        corpus.append(text_data)\n",
        "\n",
        "    return corpus"
      ]
    },
    {
      "cell_type": "code",
      "execution_count": 42,
      "metadata": {
        "id": "g_KCyVWqa0y-",
        "outputId": "c0732262-e6e0-49bf-a19b-0fd86d5310dc",
        "colab": {
          "base_uri": "https://localhost:8080/"
        }
      },
      "outputs": [
        {
          "output_type": "stream",
          "name": "stderr",
          "text": [
            "100%|████████████████████████████████████████████████████████| 50000/50000 [00:52<00:00, 950.67it/s]\n"
          ]
        }
      ],
      "source": [
        "cleaned_sentences = clean_strings(df)"
      ]
    },
    {
      "cell_type": "code",
      "execution_count": 43,
      "metadata": {
        "id": "FR-x8F0Za0y-",
        "outputId": "618e5204-53b2-4dcc-84b6-f73bbab8b00a",
        "colab": {
          "base_uri": "https://localhost:8080/"
        }
      },
      "outputs": [
        {
          "output_type": "stream",
          "name": "stdout",
          "text": [
            "One of the other reviewers has mentioned that after watching just 1 Oz episode you'll be hooked. They are right, as this is exactly what happened with me.<br /><br />The first thing that struck me about Oz was its brutality and unflinching scenes of violence, which set in right from the word GO. Trust me, this is not a show for the faint hearted or timid. This show pulls no punches with regards to drugs, sex or violence. Its is hardcore, in the classic use of the word.<br /><br />It is called OZ as that is the nickname given to the Oswald Maximum Security State Penitentary. It focuses mainly on Emerald City, an experimental section of the prison where all the cells have glass fronts and face inwards, so privacy is not high on the agenda. Em City is home to many..Aryans, Muslims, gangstas, Latinos, Christians, Italians, Irish and more....so scuffles, death stares, dodgy dealings and shady agreements are never far away.<br /><br />I would say the main appeal of the show is due to the fact that it goes where other shows wouldn't dare. Forget pretty pictures painted for mainstream audiences, forget charm, forget romance...OZ doesn't mess around. The first episode I ever saw struck me as so nasty it was surreal, I couldn't say I was ready for it, but as I watched more, I developed a taste for Oz, and got accustomed to the high levels of graphic violence. Not just violence, but injustice (crooked guards who'll be sold out for a nickel, inmates who'll kill on order and get away with it, well mannered, middle class inmates being turned into prison bitches due to their lack of street skills or prison experience) Watching Oz, you may become comfortable with what is uncomfortable viewing....thats if you can get in touch with your darker side.\n",
            "['one', 'reviewer', 'mentioned', 'watching', 'oz', 'episode', 'hooked', 'right', 'exactly', 'happened', 'first', 'thing', 'struck', 'oz', 'brutality', 'unflinching', 'scene', 'violence', 'set', 'right', 'word', 'go', 'trust', 'show', 'faint', 'hearted', 'timid', 'show', 'pull', 'punch', 'regard', 'drug', 'sex', 'violence', 'hardcore', 'classic', 'use', 'word', 'called', 'oz', 'nickname', 'given', 'oswald', 'maximum', 'security', 'state', 'penitentary', 'focus', 'mainly', 'emerald', 'city', 'experimental', 'section', 'prison', 'cell', 'glass', 'front', 'face', 'inwards', 'privacy', 'high', 'agenda', 'em', 'city', 'home', 'many', 'aryan', 'muslim', 'gangsta', 'latino', 'christian', 'italian', 'irish', 'scuffle', 'death', 'stare', 'dodgy', 'dealing', 'shady', 'agreement', 'never', 'far', 'away', 'would', 'say', 'main', 'appeal', 'show', 'due', 'fact', 'go', 'show', 'dare', 'forget', 'pretty', 'picture', 'painted', 'mainstream', 'audience', 'forget', 'charm', 'forget', 'romance', 'oz', 'mess', 'around', 'first', 'episode', 'ever', 'saw', 'struck', 'nasty', 'surreal', 'say', 'ready', 'watched', 'developed', 'taste', 'oz', 'got', 'accustomed', 'high', 'level', 'graphic', 'violence', 'violence', 'injustice', 'crooked', 'guard', 'sold', 'nickel', 'inmate', 'kill', 'order', 'get', 'away', 'well', 'mannered', 'middle', 'class', 'inmate', 'turned', 'prison', 'bitch', 'due', 'lack', 'street', 'skill', 'prison', 'experience', 'watching', 'oz', 'may', 'become', 'comfortable', 'uncomfortable', 'viewing', 'thats', 'get', 'touch', 'darker', 'side']\n"
          ]
        }
      ],
      "source": [
        "print(df['review'][0])\n",
        "print(cleaned_sentences[0])"
      ]
    },
    {
      "cell_type": "markdown",
      "metadata": {
        "id": "vPRlr_u6a0y-"
      },
      "source": [
        "## Transfer Learning w/ GLoVe"
      ]
    },
    {
      "cell_type": "code",
      "execution_count": 44,
      "metadata": {
        "id": "p21oBuvfa0y-"
      },
      "outputs": [],
      "source": [
        "from gensim.test.utils import get_tmpfile, datapath\n",
        "from gensim.models import KeyedVectors, Word2Vec\n",
        "from gensim.scripts.glove2word2vec import glove2word2vec\n",
        "import os\n",
        "import numpy as np"
      ]
    },
    {
      "cell_type": "code",
      "execution_count": 45,
      "metadata": {
        "id": "LwjDlG1Y5B-n"
      },
      "outputs": [],
      "source": [
        "# download 6 billion glove dataset from https://nlp.stanford.edu/data/glove.6B.zip"
      ]
    },
    {
      "cell_type": "code",
      "execution_count": 46,
      "metadata": {
        "id": "_L0_sToKa0y-",
        "outputId": "b0e78d87-53f0-43f4-cf7c-661a586caae5",
        "colab": {
          "base_uri": "https://localhost:8080/"
        }
      },
      "outputs": [
        {
          "output_type": "stream",
          "name": "stderr",
          "text": [
            "<ipython-input-46-3dc20a64cec2>:6: DeprecationWarning: Call to deprecated `glove2word2vec` (KeyedVectors.load_word2vec_format(.., binary=False, no_header=True) loads GLoVE text vectors.).\n",
            "  _ = glove2word2vec(glove_file, glove2vec_file)\n"
          ]
        }
      ],
      "source": [
        "# get glove file and make temp glove word2vec file\n",
        "glove_file = datapath(os.path.abspath('./glove.6B.100d.txt'))\n",
        "glove2vec_file = get_tmpfile(os.path.abspath('./glove_word2vec_6B.100d.txt'))\n",
        "\n",
        "# convert glove embeddings to word2vec format\n",
        "_ = glove2word2vec(glove_file, glove2vec_file)\n",
        "glove_vectors = KeyedVectors.load_word2vec_format(glove2vec_file)"
      ]
    },
    {
      "cell_type": "code",
      "execution_count": 47,
      "metadata": {
        "id": "G6Kmbw0oa0y-"
      },
      "outputs": [],
      "source": [
        "# build initial embedding on our dataset\n",
        "base_model = Word2Vec(vector_size=100, min_count=5)\n",
        "base_model.build_vocab(cleaned_sentences)\n",
        "\n",
        "# train on our dataset\n",
        "base_model.train(cleaned_sentences, total_examples=base_model.corpus_count, epochs=base_model.epochs)\n",
        "base_model_wv = base_model.wv\n",
        "\n",
        "del base_model"
      ]
    },
    {
      "cell_type": "code",
      "execution_count": 48,
      "metadata": {
        "id": "IqXJiiBpa0y_",
        "colab": {
          "base_uri": "https://localhost:8080/"
        },
        "outputId": "98ca5c19-fcd5-48ee-d359-66eab18e709a"
      },
      "outputs": [
        {
          "output_type": "stream",
          "name": "stderr",
          "text": [
            "WARNING:gensim.models.word2vec:Each 'sentences' item should be a list of words (usually unicode strings). First item here is instead plain <class 'str'>.\n"
          ]
        }
      ],
      "source": [
        "# build initial embedding on our dataset\n",
        "glove_model = Word2Vec(vector_size=100, min_count=5)\n",
        "glove_model.build_vocab(cleaned_sentences)\n",
        "total_examples = glove_model.corpus_count\n",
        "\n",
        "# add GLoVe vocab and weights\n",
        "glove_model.build_vocab(glove_vectors.index_to_key, update=True)\n",
        "\n",
        "# # train on dataset\n",
        "glove_model.train(cleaned_sentences, total_examples=total_examples, epochs=glove_model.epochs)\n",
        "glove_model_wv = glove_model.wv\n",
        "\n",
        "del glove_model"
      ]
    },
    {
      "cell_type": "code",
      "execution_count": 49,
      "metadata": {
        "id": "jl1oqSlea0y_",
        "outputId": "ec92bd3b-0736-4b69-d681-427a09cc02ba",
        "colab": {
          "base_uri": "https://localhost:8080/"
        }
      },
      "outputs": [
        {
          "output_type": "execute_result",
          "data": {
            "text/plain": [
              "[('romantic', 0.8110664486885071),\n",
              " ('sappy', 0.6130224466323853),\n",
              " ('intrigue', 0.6038162708282471),\n",
              " ('drama', 0.6029313206672668),\n",
              " ('triangle', 0.5883470177650452),\n",
              " ('sentimental', 0.567913293838501),\n",
              " ('melodrama', 0.5677792429924011),\n",
              " ('friendship', 0.5551624298095703),\n",
              " ('fairytale', 0.5538564920425415),\n",
              " ('bittersweet', 0.5528250336647034)]"
            ]
          },
          "metadata": {},
          "execution_count": 49
        }
      ],
      "source": [
        "base_model_wv.most_similar('romance')"
      ]
    },
    {
      "cell_type": "code",
      "execution_count": 50,
      "metadata": {
        "id": "dA6DTh1Ba0y_",
        "outputId": "85c0f18a-1ed4-4a4f-a7b6-d6bcbcb6d0a2",
        "colab": {
          "base_uri": "https://localhost:8080/"
        }
      },
      "outputs": [
        {
          "output_type": "execute_result",
          "data": {
            "text/plain": [
              "[('romantic', 0.8211200833320618),\n",
              " ('triangle', 0.6186382174491882),\n",
              " ('bittersweet', 0.607478141784668),\n",
              " ('intrigue', 0.5946118831634521),\n",
              " ('drama', 0.5940388441085815),\n",
              " ('sentimental', 0.5851631760597229),\n",
              " ('adventure', 0.5840432643890381),\n",
              " ('sappy', 0.5820758938789368),\n",
              " ('screwball', 0.5686012506484985),\n",
              " ('melodrama', 0.5614430904388428)]"
            ]
          },
          "metadata": {},
          "execution_count": 50
        }
      ],
      "source": [
        "glove_model_wv.most_similar('romance')"
      ]
    },
    {
      "cell_type": "markdown",
      "metadata": {
        "id": "x-KFwzx3a0y_"
      },
      "source": [
        "## Preparing Data"
      ]
    },
    {
      "cell_type": "code",
      "execution_count": 163,
      "metadata": {
        "id": "II4lB0bCa0y_"
      },
      "outputs": [],
      "source": [
        "from sklearn.model_selection import train_test_split\n",
        "from keras.preprocessing.text import Tokenizer\n",
        "from keras.utils import pad_sequences"
      ]
    },
    {
      "cell_type": "code",
      "execution_count": 164,
      "metadata": {
        "id": "F4Wjfml55B-o"
      },
      "outputs": [],
      "source": [
        "def prep_data(embedding_model_wv, random_state=69, maxlen=200):\n",
        "\n",
        "    # cleaned strings\n",
        "    X_raw = cleaned_sentences\n",
        "    # 0 for negative, 1 for positive\n",
        "    y_raw = df['sentiment']\n",
        "\n",
        "\n",
        "    # split randomly\n",
        "    X_train, X_test, y_train, y_test = train_test_split(X_raw, y_raw, test_size=0.2, random_state=19)\n",
        "\n",
        "\n",
        "    # tokenize using embedding model\n",
        "    word_tokenizer = Tokenizer()\n",
        "    word_tokenizer.word_index = embedding_model_wv.key_to_index\n",
        "\n",
        "    X_train = word_tokenizer.texts_to_sequences(X_train)\n",
        "    X_test = word_tokenizer.texts_to_sequences(X_test)\n",
        "\n",
        "    # pad all sequences and convert to numpy arrays\n",
        "    X_train = pad_sequences(X_train, padding='post', maxlen=maxlen, value=len(embedding_model_wv.key_to_index))\n",
        "    X_test = pad_sequences(X_test, padding='post', maxlen=maxlen, value=len(embedding_model_wv.key_to_index))\n",
        "\n",
        "    X_train, y_train = np.array(X_train, dtype=np.int64), np.array(y_train, dtype=np.int64)\n",
        "    X_test, y_test = np.array(X_test, dtype=np.int64), np.array(y_test, dtype=np.int64)\n",
        "\n",
        "    \n",
        "    # create embedding matrix with extra row for padding\n",
        "    glove_embedding = embedding_model_wv.vectors\n",
        "    pad_embedding = np.zeros((1, glove_embedding.shape[1]))\n",
        "\n",
        "    embedding_matrix = np.vstack((glove_embedding, pad_embedding))\n",
        "\n",
        "\n",
        "    return X_train, X_test, y_train, y_test, embedding_matrix"
      ]
    },
    {
      "cell_type": "code",
      "execution_count": 165,
      "metadata": {
        "id": "UPBYlC23a0y_"
      },
      "outputs": [],
      "source": [
        "base_X_train, base_X_test, base_y_train, base_y_test, base_embedding = prep_data(base_model_wv)\n",
        "glove_X_train, glove_X_test, glove_y_train, glove_y_test, glove_embedding = prep_data(glove_model_wv)"
      ]
    },
    {
      "cell_type": "markdown",
      "metadata": {
        "id": "ly7m9yFRa0y_"
      },
      "source": [
        "## Build and Train Models"
      ]
    },
    {
      "cell_type": "code",
      "execution_count": 166,
      "metadata": {
        "id": "Rq5YGdBWa0y_"
      },
      "outputs": [],
      "source": [
        "from keras.models import Sequential\n",
        "from keras.layers.core import Activation, Dropout, Dense\n",
        "from keras.layers import Flatten, GlobalMaxPooling1D, Embedding, Conv1D, LSTM"
      ]
    },
    {
      "cell_type": "code",
      "execution_count": 167,
      "metadata": {
        "id": "glF0of8q5B-o"
      },
      "outputs": [],
      "source": [
        "def train_and_test_model(model, X_train, X_test, y_train, y_test, epochs=5):\n",
        "\n",
        "    print('Training Model...')\n",
        "    model_hist = model.fit(X_train, y_train, batch_size=64, epochs=epochs, verbose=1, validation_split=0.2)\n",
        "\n",
        "    print('Testing Model...')\n",
        "    score = model.evaluate(X_test, y_test, verbose=1)\n",
        "\n",
        "    return model_hist, score"
      ]
    },
    {
      "cell_type": "markdown",
      "metadata": {
        "id": "WxGHYgxla0y_"
      },
      "source": [
        "### CNN"
      ]
    },
    {
      "cell_type": "code",
      "execution_count": 168,
      "metadata": {
        "id": "FjR8qkGja0zA"
      },
      "outputs": [],
      "source": [
        "def build_cnn(embedding, X_train):\n",
        "    cnn = Sequential(\n",
        "        layers=(\n",
        "            # use our GLoVe-based transfer-learned embedding\n",
        "            Embedding(*embedding.shape, weights=[embedding], input_length=X_train.shape[1], trainable=False),\n",
        "            # convolution to 128-dim space\n",
        "            Conv1D(128, 5, activation='relu'),\n",
        "            GlobalMaxPooling1D(),\n",
        "            Dense(1, activation='sigmoid')\n",
        "        )\n",
        "    )\n",
        "\n",
        "    cnn.compile(optimizer='adam', loss='binary_crossentropy', metrics=['acc'])\n",
        "\n",
        "    print(cnn.summary())\n",
        "\n",
        "    return cnn"
      ]
    },
    {
      "cell_type": "code",
      "execution_count": 169,
      "metadata": {
        "colab": {
          "base_uri": "https://localhost:8080/"
        },
        "id": "Y6uu8hRH5B-o",
        "outputId": "c9ab50b1-5230-44cb-bf73-ae18247bee67"
      },
      "outputs": [
        {
          "output_type": "stream",
          "name": "stdout",
          "text": [
            "Model: \"sequential_28\"\n",
            "_________________________________________________________________\n",
            " Layer (type)                Output Shape              Param #   \n",
            "=================================================================\n",
            " embedding_28 (Embedding)    (None, 200, 100)          3474600   \n",
            "                                                                 \n",
            " conv1d_7 (Conv1D)           (None, 196, 128)          64128     \n",
            "                                                                 \n",
            " global_max_pooling1d_7 (Glo  (None, 128)              0         \n",
            " balMaxPooling1D)                                                \n",
            "                                                                 \n",
            " dense_28 (Dense)            (None, 1)                 129       \n",
            "                                                                 \n",
            "=================================================================\n",
            "Total params: 3,538,857\n",
            "Trainable params: 64,257\n",
            "Non-trainable params: 3,474,600\n",
            "_________________________________________________________________\n",
            "None\n",
            "Training Model...\n",
            "Epoch 1/5\n",
            "500/500 [==============================] - 3s 4ms/step - loss: 0.3589 - acc: 0.8397 - val_loss: 0.3207 - val_acc: 0.8646\n",
            "Epoch 2/5\n",
            "500/500 [==============================] - 2s 4ms/step - loss: 0.2420 - acc: 0.9047 - val_loss: 0.3152 - val_acc: 0.8715\n",
            "Epoch 3/5\n",
            "500/500 [==============================] - 2s 4ms/step - loss: 0.1820 - acc: 0.9316 - val_loss: 0.3242 - val_acc: 0.8679\n",
            "Epoch 4/5\n",
            "500/500 [==============================] - 2s 4ms/step - loss: 0.1243 - acc: 0.9621 - val_loss: 0.3391 - val_acc: 0.8668\n",
            "Epoch 5/5\n",
            "500/500 [==============================] - 3s 5ms/step - loss: 0.0799 - acc: 0.9822 - val_loss: 0.3557 - val_acc: 0.8675\n",
            "Testing Model...\n",
            "313/313 [==============================] - 1s 3ms/step - loss: 0.3576 - acc: 0.8636\n"
          ]
        }
      ],
      "source": [
        "base_cnn = build_cnn(base_embedding, base_X_train)\n",
        "\n",
        "base_cnn_hist, base_cnn_score = train_and_test_model(base_cnn, base_X_train, base_X_test, base_y_train, base_y_test)"
      ]
    },
    {
      "cell_type": "code",
      "execution_count": 170,
      "metadata": {
        "colab": {
          "base_uri": "https://localhost:8080/"
        },
        "id": "pF_xzSIG5B-p",
        "outputId": "67ed8599-95d5-443c-ade1-77317dfafc6d"
      },
      "outputs": [
        {
          "output_type": "stream",
          "name": "stdout",
          "text": [
            "Model: \"sequential_29\"\n",
            "_________________________________________________________________\n",
            " Layer (type)                Output Shape              Param #   \n",
            "=================================================================\n",
            " embedding_29 (Embedding)    (None, 200, 100)          3491400   \n",
            "                                                                 \n",
            " conv1d_8 (Conv1D)           (None, 196, 128)          64128     \n",
            "                                                                 \n",
            " global_max_pooling1d_8 (Glo  (None, 128)              0         \n",
            " balMaxPooling1D)                                                \n",
            "                                                                 \n",
            " dense_29 (Dense)            (None, 1)                 129       \n",
            "                                                                 \n",
            "=================================================================\n",
            "Total params: 3,555,657\n",
            "Trainable params: 64,257\n",
            "Non-trainable params: 3,491,400\n",
            "_________________________________________________________________\n",
            "None\n",
            "Training Model...\n",
            "Epoch 1/5\n",
            "500/500 [==============================] - 3s 5ms/step - loss: 0.3608 - acc: 0.8387 - val_loss: 0.3203 - val_acc: 0.8661\n",
            "Epoch 2/5\n",
            "500/500 [==============================] - 2s 4ms/step - loss: 0.2407 - acc: 0.9035 - val_loss: 0.3098 - val_acc: 0.8710\n",
            "Epoch 3/5\n",
            "500/500 [==============================] - 2s 4ms/step - loss: 0.1805 - acc: 0.9344 - val_loss: 0.3243 - val_acc: 0.8673\n",
            "Epoch 4/5\n",
            "500/500 [==============================] - 2s 5ms/step - loss: 0.1282 - acc: 0.9587 - val_loss: 0.3369 - val_acc: 0.8674\n",
            "Epoch 5/5\n",
            "500/500 [==============================] - 2s 5ms/step - loss: 0.0839 - acc: 0.9802 - val_loss: 0.3631 - val_acc: 0.8662\n",
            "Testing Model...\n",
            "313/313 [==============================] - 1s 3ms/step - loss: 0.3570 - acc: 0.8637\n"
          ]
        }
      ],
      "source": [
        "glove_cnn = build_cnn(glove_embedding, glove_X_train)\n",
        "\n",
        "glove_cnn_hist, glove_cnn_score = train_and_test_model(glove_cnn, glove_X_train, glove_X_test, glove_y_train, glove_y_test)"
      ]
    },
    {
      "cell_type": "markdown",
      "metadata": {
        "id": "LmQUBZ2F5B-p"
      },
      "source": [
        "### LSTM"
      ]
    },
    {
      "cell_type": "code",
      "execution_count": 171,
      "metadata": {
        "id": "gT7p8p2K5B-p"
      },
      "outputs": [],
      "source": [
        "def build_lstm(embedding, X_train):\n",
        "    lstm = Sequential(\n",
        "        layers=(\n",
        "            # use our GLoVe-based transfer-learned embedding\n",
        "            Embedding(*embedding.shape, weights=[embedding], input_length=X_train.shape[1], trainable=False),\n",
        "            # lstm outputs to 128-dim space\n",
        "            LSTM(128),\n",
        "            Dense(1, activation='sigmoid')\n",
        "        )\n",
        "    )\n",
        "\n",
        "    lstm.compile(optimizer='adam', loss='binary_crossentropy', metrics=['acc'])\n",
        "\n",
        "    print(lstm.summary())\n",
        "\n",
        "    return lstm"
      ]
    },
    {
      "cell_type": "code",
      "source": [
        "LSTM_EPOCS=15"
      ],
      "metadata": {
        "id": "71SRBJQXAYsV"
      },
      "execution_count": 172,
      "outputs": []
    },
    {
      "cell_type": "code",
      "execution_count": 173,
      "metadata": {
        "colab": {
          "base_uri": "https://localhost:8080/"
        },
        "id": "LNNq3N0P5B-p",
        "outputId": "acd72ee2-492d-4c57-9745-ee04944f31ef"
      },
      "outputs": [
        {
          "output_type": "stream",
          "name": "stdout",
          "text": [
            "Model: \"sequential_30\"\n",
            "_________________________________________________________________\n",
            " Layer (type)                Output Shape              Param #   \n",
            "=================================================================\n",
            " embedding_30 (Embedding)    (None, 200, 100)          3474600   \n",
            "                                                                 \n",
            " lstm_21 (LSTM)              (None, 128)               117248    \n",
            "                                                                 \n",
            " dense_30 (Dense)            (None, 1)                 129       \n",
            "                                                                 \n",
            "=================================================================\n",
            "Total params: 3,591,977\n",
            "Trainable params: 117,377\n",
            "Non-trainable params: 3,474,600\n",
            "_________________________________________________________________\n",
            "None\n",
            "Training Model...\n",
            "Epoch 1/15\n",
            "500/500 [==============================] - 8s 12ms/step - loss: 0.6273 - acc: 0.6137 - val_loss: 0.6798 - val_acc: 0.5330\n",
            "Epoch 2/15\n",
            "500/500 [==============================] - 6s 12ms/step - loss: 0.4738 - acc: 0.7618 - val_loss: 0.3279 - val_acc: 0.8602\n",
            "Epoch 3/15\n",
            "500/500 [==============================] - 5s 11ms/step - loss: 0.3107 - acc: 0.8732 - val_loss: 0.3006 - val_acc: 0.8748\n",
            "Epoch 4/15\n",
            "500/500 [==============================] - 6s 12ms/step - loss: 0.2859 - acc: 0.8827 - val_loss: 0.2859 - val_acc: 0.8802\n",
            "Epoch 5/15\n",
            "500/500 [==============================] - 6s 11ms/step - loss: 0.2664 - acc: 0.8937 - val_loss: 0.2776 - val_acc: 0.8852\n",
            "Epoch 6/15\n",
            "500/500 [==============================] - 7s 13ms/step - loss: 0.2509 - acc: 0.9003 - val_loss: 0.2759 - val_acc: 0.8841\n",
            "Epoch 7/15\n",
            "500/500 [==============================] - 6s 11ms/step - loss: 0.2381 - acc: 0.9055 - val_loss: 0.2729 - val_acc: 0.8865\n",
            "Epoch 8/15\n",
            "500/500 [==============================] - 6s 11ms/step - loss: 0.2186 - acc: 0.9154 - val_loss: 0.2868 - val_acc: 0.8824\n",
            "Epoch 9/15\n",
            "500/500 [==============================] - 6s 12ms/step - loss: 0.1997 - acc: 0.9232 - val_loss: 0.2839 - val_acc: 0.8838\n",
            "Epoch 10/15\n",
            "500/500 [==============================] - 5s 11ms/step - loss: 0.1820 - acc: 0.9311 - val_loss: 0.2949 - val_acc: 0.8821\n",
            "Epoch 11/15\n",
            "500/500 [==============================] - 6s 12ms/step - loss: 0.1572 - acc: 0.9431 - val_loss: 0.3119 - val_acc: 0.8799\n",
            "Epoch 12/15\n",
            "500/500 [==============================] - 5s 11ms/step - loss: 0.1369 - acc: 0.9521 - val_loss: 0.3262 - val_acc: 0.8745\n",
            "Epoch 13/15\n",
            "500/500 [==============================] - 6s 12ms/step - loss: 0.1187 - acc: 0.9592 - val_loss: 0.3550 - val_acc: 0.8779\n",
            "Epoch 14/15\n",
            "500/500 [==============================] - 6s 11ms/step - loss: 0.0945 - acc: 0.9690 - val_loss: 0.3809 - val_acc: 0.8724\n",
            "Epoch 15/15\n",
            "500/500 [==============================] - 6s 12ms/step - loss: 0.0788 - acc: 0.9761 - val_loss: 0.4609 - val_acc: 0.8686\n",
            "Testing Model...\n",
            "313/313 [==============================] - 2s 5ms/step - loss: 0.4582 - acc: 0.8695\n"
          ]
        }
      ],
      "source": [
        "base_lstm = build_lstm(base_embedding, base_X_train)\n",
        "\n",
        "base_lstm_hist, base_lstm_score = train_and_test_model(base_lstm, base_X_train, base_X_test, base_y_train, base_y_test, epochs=LSTM_EPOCS)"
      ]
    },
    {
      "cell_type": "code",
      "execution_count": 174,
      "metadata": {
        "colab": {
          "base_uri": "https://localhost:8080/"
        },
        "id": "eUqPWhwK5B-p",
        "outputId": "8e4617ca-4177-48fb-8347-aaafe7636f10"
      },
      "outputs": [
        {
          "output_type": "stream",
          "name": "stdout",
          "text": [
            "Model: \"sequential_31\"\n",
            "_________________________________________________________________\n",
            " Layer (type)                Output Shape              Param #   \n",
            "=================================================================\n",
            " embedding_31 (Embedding)    (None, 200, 100)          3491400   \n",
            "                                                                 \n",
            " lstm_22 (LSTM)              (None, 128)               117248    \n",
            "                                                                 \n",
            " dense_31 (Dense)            (None, 1)                 129       \n",
            "                                                                 \n",
            "=================================================================\n",
            "Total params: 3,608,777\n",
            "Trainable params: 117,377\n",
            "Non-trainable params: 3,491,400\n",
            "_________________________________________________________________\n",
            "None\n",
            "Training Model...\n",
            "Epoch 1/15\n",
            "500/500 [==============================] - 8s 13ms/step - loss: 0.6479 - acc: 0.5980 - val_loss: 0.6766 - val_acc: 0.5591\n",
            "Epoch 2/15\n",
            "500/500 [==============================] - 5s 11ms/step - loss: 0.5227 - acc: 0.7248 - val_loss: 0.3648 - val_acc: 0.8508\n",
            "Epoch 3/15\n",
            "500/500 [==============================] - 6s 12ms/step - loss: 0.3288 - acc: 0.8636 - val_loss: 0.3071 - val_acc: 0.8716\n",
            "Epoch 4/15\n",
            "500/500 [==============================] - 5s 11ms/step - loss: 0.3017 - acc: 0.8758 - val_loss: 0.2999 - val_acc: 0.8725\n",
            "Epoch 5/15\n",
            "500/500 [==============================] - 7s 13ms/step - loss: 0.2814 - acc: 0.8845 - val_loss: 0.2934 - val_acc: 0.8795\n",
            "Epoch 6/15\n",
            "500/500 [==============================] - 6s 11ms/step - loss: 0.2665 - acc: 0.8908 - val_loss: 0.3144 - val_acc: 0.8611\n",
            "Epoch 7/15\n",
            "500/500 [==============================] - 6s 13ms/step - loss: 0.2498 - acc: 0.8992 - val_loss: 0.2728 - val_acc: 0.8867\n",
            "Epoch 8/15\n",
            "500/500 [==============================] - 6s 11ms/step - loss: 0.2353 - acc: 0.9060 - val_loss: 0.2752 - val_acc: 0.8884\n",
            "Epoch 9/15\n",
            "500/500 [==============================] - 6s 11ms/step - loss: 0.2185 - acc: 0.9138 - val_loss: 0.2778 - val_acc: 0.8867\n",
            "Epoch 10/15\n",
            "500/500 [==============================] - 6s 12ms/step - loss: 0.1961 - acc: 0.9253 - val_loss: 0.2948 - val_acc: 0.8854\n",
            "Epoch 11/15\n",
            "500/500 [==============================] - 5s 11ms/step - loss: 0.1746 - acc: 0.9339 - val_loss: 0.2952 - val_acc: 0.8875\n",
            "Epoch 12/15\n",
            "500/500 [==============================] - 6s 12ms/step - loss: 0.1490 - acc: 0.9455 - val_loss: 0.3176 - val_acc: 0.8879\n",
            "Epoch 13/15\n",
            "500/500 [==============================] - 6s 11ms/step - loss: 0.1283 - acc: 0.9550 - val_loss: 0.3236 - val_acc: 0.8825\n",
            "Epoch 14/15\n",
            "500/500 [==============================] - 6s 12ms/step - loss: 0.1060 - acc: 0.9639 - val_loss: 0.3840 - val_acc: 0.8827\n",
            "Epoch 15/15\n",
            "500/500 [==============================] - 6s 11ms/step - loss: 0.0904 - acc: 0.9712 - val_loss: 0.3971 - val_acc: 0.8739\n",
            "Testing Model...\n",
            "313/313 [==============================] - 3s 7ms/step - loss: 0.4089 - acc: 0.8710\n"
          ]
        }
      ],
      "source": [
        "glove_lstm = build_lstm(glove_embedding, glove_X_train)\n",
        "\n",
        "glove_lstm_hist, glove_lstm_score = train_and_test_model(glove_lstm, glove_X_train, glove_X_test, glove_y_train, glove_y_test, epochs=LSTM_EPOCS)"
      ]
    },
    {
      "cell_type": "markdown",
      "source": [
        "## Save to WandB"
      ],
      "metadata": {
        "id": "arMW9rbKGMCS"
      }
    },
    {
      "cell_type": "code",
      "source": [
        "!pip install wandb"
      ],
      "metadata": {
        "colab": {
          "base_uri": "https://localhost:8080/"
        },
        "id": "bfZCHX-qHBqB",
        "outputId": "91c62120-8f95-43c1-96a9-fd947ba53578"
      },
      "execution_count": 175,
      "outputs": [
        {
          "output_type": "stream",
          "name": "stdout",
          "text": [
            "Looking in indexes: https://pypi.org/simple, https://us-python.pkg.dev/colab-wheels/public/simple/\n",
            "Requirement already satisfied: wandb in /usr/local/lib/python3.10/dist-packages (0.15.2)\n",
            "Requirement already satisfied: Click!=8.0.0,>=7.0 in /usr/local/lib/python3.10/dist-packages (from wandb) (8.1.3)\n",
            "Requirement already satisfied: GitPython!=3.1.29,>=1.0.0 in /usr/local/lib/python3.10/dist-packages (from wandb) (3.1.31)\n",
            "Requirement already satisfied: requests<3,>=2.0.0 in /usr/local/lib/python3.10/dist-packages (from wandb) (2.27.1)\n",
            "Requirement already satisfied: psutil>=5.0.0 in /usr/local/lib/python3.10/dist-packages (from wandb) (5.9.5)\n",
            "Requirement already satisfied: sentry-sdk>=1.0.0 in /usr/local/lib/python3.10/dist-packages (from wandb) (1.22.2)\n",
            "Requirement already satisfied: docker-pycreds>=0.4.0 in /usr/local/lib/python3.10/dist-packages (from wandb) (0.4.0)\n",
            "Requirement already satisfied: PyYAML in /usr/local/lib/python3.10/dist-packages (from wandb) (6.0)\n",
            "Requirement already satisfied: pathtools in /usr/local/lib/python3.10/dist-packages (from wandb) (0.1.2)\n",
            "Requirement already satisfied: setproctitle in /usr/local/lib/python3.10/dist-packages (from wandb) (1.3.2)\n",
            "Requirement already satisfied: setuptools in /usr/local/lib/python3.10/dist-packages (from wandb) (67.7.2)\n",
            "Requirement already satisfied: appdirs>=1.4.3 in /usr/local/lib/python3.10/dist-packages (from wandb) (1.4.4)\n",
            "Requirement already satisfied: protobuf!=4.21.0,<5,>=3.19.0 in /usr/local/lib/python3.10/dist-packages (from wandb) (3.20.3)\n",
            "Requirement already satisfied: six>=1.4.0 in /usr/local/lib/python3.10/dist-packages (from docker-pycreds>=0.4.0->wandb) (1.16.0)\n",
            "Requirement already satisfied: gitdb<5,>=4.0.1 in /usr/local/lib/python3.10/dist-packages (from GitPython!=3.1.29,>=1.0.0->wandb) (4.0.10)\n",
            "Requirement already satisfied: urllib3<1.27,>=1.21.1 in /usr/local/lib/python3.10/dist-packages (from requests<3,>=2.0.0->wandb) (1.26.15)\n",
            "Requirement already satisfied: certifi>=2017.4.17 in /usr/local/lib/python3.10/dist-packages (from requests<3,>=2.0.0->wandb) (2022.12.7)\n",
            "Requirement already satisfied: charset-normalizer~=2.0.0 in /usr/local/lib/python3.10/dist-packages (from requests<3,>=2.0.0->wandb) (2.0.12)\n",
            "Requirement already satisfied: idna<4,>=2.5 in /usr/local/lib/python3.10/dist-packages (from requests<3,>=2.0.0->wandb) (3.4)\n",
            "Requirement already satisfied: smmap<6,>=3.0.1 in /usr/local/lib/python3.10/dist-packages (from gitdb<5,>=4.0.1->GitPython!=3.1.29,>=1.0.0->wandb) (5.0.0)\n"
          ]
        }
      ]
    },
    {
      "cell_type": "code",
      "source": [
        "import wandb\n",
        "\n",
        "wandb.login()"
      ],
      "metadata": {
        "colab": {
          "base_uri": "https://localhost:8080/"
        },
        "id": "jSr5YgpvG_Q0",
        "outputId": "ff829403-f0fb-4045-8c3c-376c8627c158"
      },
      "execution_count": 176,
      "outputs": [
        {
          "output_type": "stream",
          "name": "stderr",
          "text": [
            "\u001b[34m\u001b[1mwandb\u001b[0m: \u001b[33mWARNING\u001b[0m Calling wandb.login() after wandb.init() has no effect.\n"
          ]
        },
        {
          "output_type": "execute_result",
          "data": {
            "text/plain": [
              "True"
            ]
          },
          "metadata": {},
          "execution_count": 176
        }
      ]
    },
    {
      "cell_type": "code",
      "source": [
        "run = wandb.init(\n",
        "  project='IMDB Sentiment Analysis',\n",
        ")\n",
        "\n",
        "wandb.config = {\n",
        "  'batch_size': 64\n",
        "}"
      ],
      "metadata": {
        "colab": {
          "base_uri": "https://localhost:8080/",
          "height": 0,
          "referenced_widgets": [
            "c7bac3917be04dd790b37145a35b6a8f",
            "c90cce2a779445a68cfa82fe92aca910",
            "bc9450c4984b4b9ab4d5fc39fa1b0b8a",
            "e0b71b836c204157ad211819025a9c4c",
            "facc332e75e546699659b34c89224e2b",
            "db4c6a9f194f4786afdcd22ac550c5e2",
            "7cd9ccb198424762a94ff02ea23bf925",
            "ad02ffafe4884f67baf484ef45d843df"
          ]
        },
        "id": "04YfjkWlHJpj",
        "outputId": "3970de9c-bbdf-4650-a6d0-f28894ac22e8"
      },
      "execution_count": 177,
      "outputs": [
        {
          "output_type": "display_data",
          "data": {
            "text/plain": [
              "<IPython.core.display.HTML object>"
            ],
            "text/html": [
              "Finishing last run (ID:lm5td4l3) before initializing another..."
            ]
          },
          "metadata": {}
        },
        {
          "output_type": "display_data",
          "data": {
            "text/plain": [
              "<IPython.core.display.HTML object>"
            ],
            "text/html": [
              "Waiting for W&B process to finish... <strong style=\"color:green\">(success).</strong>"
            ]
          },
          "metadata": {}
        },
        {
          "output_type": "display_data",
          "data": {
            "text/plain": [
              "VBox(children=(Label(value='0.001 MB of 0.001 MB uploaded (0.000 MB deduped)\\r'), FloatProgress(value=1.0, max…"
            ],
            "application/vnd.jupyter.widget-view+json": {
              "version_major": 2,
              "version_minor": 0,
              "model_id": "c7bac3917be04dd790b37145a35b6a8f"
            }
          },
          "metadata": {}
        },
        {
          "output_type": "display_data",
          "data": {
            "text/plain": [
              "<IPython.core.display.HTML object>"
            ],
            "text/html": [
              "<style>\n",
              "    table.wandb td:nth-child(1) { padding: 0 10px; text-align: left ; width: auto;} td:nth-child(2) {text-align: left ; width: 100%}\n",
              "    .wandb-row { display: flex; flex-direction: row; flex-wrap: wrap; justify-content: flex-start; width: 100% }\n",
              "    .wandb-col { display: flex; flex-direction: column; flex-basis: 100%; flex: 1; padding: 10px; }\n",
              "    </style>\n",
              "<div class=\"wandb-row\"><div class=\"wandb-col\"><h3>Run history:</h3><br/><table class=\"wandb\"><tr><td>Base CNN Train Acc</td><td>▁▄▆▇█</td></tr><tr><td>Base CNN Train Loss</td><td>█▅▃▂▁</td></tr><tr><td>Base CNN Val Acc</td><td>▁█▆▅█</td></tr><tr><td>Base CNN Val Loss</td><td>▃▁▂▆█</td></tr><tr><td>Base LSTM Train Acc</td><td>▁▂▂▂▆▆▆▇▇▇▇▇███</td></tr><tr><td>Base LSTM Train Loss</td><td>██▇█▄▃▃▃▃▂▂▂▂▁▁</td></tr><tr><td>Base LSTM Val Acc</td><td>▅▁▅▇███████████</td></tr><tr><td>Base LSTM Val Loss</td><td>▆█▆▄▂▁▁▁▁▁▁▁▁▂▂</td></tr><tr><td>GLoVe CNN Train Acc</td><td>▁▄▆▇█</td></tr><tr><td>GLoVe CNN Train Loss</td><td>█▅▃▂▁</td></tr><tr><td>GLoVe CNN Val Acc</td><td>▁█▇█▄</td></tr><tr><td>GLoVe CNN Val Loss</td><td>▄▁▂▃█</td></tr><tr><td>GLoVe LSTM Train Acc</td><td>▁▂▆▆▇▇▇▇▇▇▇▇███</td></tr><tr><td>GLoVe LSTM Train Loss</td><td>██▅▄▃▃▃▃▂▂▂▂▂▁▁</td></tr><tr><td>GLoVe LSTM Val Acc</td><td>▁▆▇▇███████████</td></tr><tr><td>GLoVe LSTM Val Loss</td><td>█▅▂▂▁▁▁▁▁▁▁▁▁▃▂</td></tr></table><br/></div><div class=\"wandb-col\"><h3>Run summary:</h3><br/><table class=\"wandb\"><tr><td>Base CNN Train Acc</td><td>0.97853</td></tr><tr><td>Base CNN Train Loss</td><td>0.08612</td></tr><tr><td>Base CNN Val Acc</td><td>0.86937</td></tr><tr><td>Base CNN Val Loss</td><td>0.35009</td></tr><tr><td>Base LSTM Train Acc</td><td>0.95172</td></tr><tr><td>Base LSTM Train Loss</td><td>0.13524</td></tr><tr><td>Base LSTM Val Acc</td><td>0.869</td></tr><tr><td>Base LSTM Val Loss</td><td>0.35258</td></tr><tr><td>GLoVe CNN Train Acc</td><td>0.97528</td></tr><tr><td>GLoVe CNN Train Loss</td><td>0.09679</td></tr><tr><td>GLoVe CNN Val Acc</td><td>0.86437</td></tr><tr><td>GLoVe CNN Val Loss</td><td>0.35895</td></tr><tr><td>GLoVe LSTM Train Acc</td><td>0.95819</td></tr><tr><td>GLoVe LSTM Train Loss</td><td>0.12068</td></tr><tr><td>GLoVe LSTM Val Acc</td><td>0.8795</td></tr><tr><td>GLoVe LSTM Val Loss</td><td>0.34225</td></tr></table><br/></div></div>"
            ]
          },
          "metadata": {}
        },
        {
          "output_type": "display_data",
          "data": {
            "text/plain": [
              "<IPython.core.display.HTML object>"
            ],
            "text/html": [
              " View run <strong style=\"color:#cdcd00\">peachy-disco-4</strong> at: <a href='https://wandb.ai/arth-shukla/IMDB%20Sentiment%20Analysis/runs/lm5td4l3' target=\"_blank\">https://wandb.ai/arth-shukla/IMDB%20Sentiment%20Analysis/runs/lm5td4l3</a><br/>Synced 5 W&B file(s), 0 media file(s), 0 artifact file(s) and 0 other file(s)"
            ]
          },
          "metadata": {}
        },
        {
          "output_type": "display_data",
          "data": {
            "text/plain": [
              "<IPython.core.display.HTML object>"
            ],
            "text/html": [
              "Find logs at: <code>./wandb/run-20230513_130454-lm5td4l3/logs</code>"
            ]
          },
          "metadata": {}
        },
        {
          "output_type": "display_data",
          "data": {
            "text/plain": [
              "<IPython.core.display.HTML object>"
            ],
            "text/html": [
              "Successfully finished last run (ID:lm5td4l3). Initializing new run:<br/>"
            ]
          },
          "metadata": {}
        },
        {
          "output_type": "display_data",
          "data": {
            "text/plain": [
              "<IPython.core.display.HTML object>"
            ],
            "text/html": [
              "Tracking run with wandb version 0.15.2"
            ]
          },
          "metadata": {}
        },
        {
          "output_type": "display_data",
          "data": {
            "text/plain": [
              "<IPython.core.display.HTML object>"
            ],
            "text/html": [
              "Run data is saved locally in <code>/content/wandb/run-20230513_131202-rn4a9fvx</code>"
            ]
          },
          "metadata": {}
        },
        {
          "output_type": "display_data",
          "data": {
            "text/plain": [
              "<IPython.core.display.HTML object>"
            ],
            "text/html": [
              "Syncing run <strong><a href='https://wandb.ai/arth-shukla/IMDB%20Sentiment%20Analysis/runs/rn4a9fvx' target=\"_blank\">swift-meadow-5</a></strong> to <a href='https://wandb.ai/arth-shukla/IMDB%20Sentiment%20Analysis' target=\"_blank\">Weights & Biases</a> (<a href='https://wandb.me/run' target=\"_blank\">docs</a>)<br/>"
            ]
          },
          "metadata": {}
        },
        {
          "output_type": "display_data",
          "data": {
            "text/plain": [
              "<IPython.core.display.HTML object>"
            ],
            "text/html": [
              " View project at <a href='https://wandb.ai/arth-shukla/IMDB%20Sentiment%20Analysis' target=\"_blank\">https://wandb.ai/arth-shukla/IMDB%20Sentiment%20Analysis</a>"
            ]
          },
          "metadata": {}
        },
        {
          "output_type": "display_data",
          "data": {
            "text/plain": [
              "<IPython.core.display.HTML object>"
            ],
            "text/html": [
              " View run at <a href='https://wandb.ai/arth-shukla/IMDB%20Sentiment%20Analysis/runs/rn4a9fvx' target=\"_blank\">https://wandb.ai/arth-shukla/IMDB%20Sentiment%20Analysis/runs/rn4a9fvx</a>"
            ]
          },
          "metadata": {}
        }
      ]
    },
    {
      "cell_type": "code",
      "source": [
        "for i in range (20):\n",
        "    log = dict()\n",
        "    for title, hist in zip(\n",
        "        ['Base CNN', 'Base LSTM', 'GLoVe CNN', 'GLoVe LSTM'],\n",
        "        [base_cnn_hist, base_lstm_hist, glove_cnn_hist, glove_lstm_hist]\n",
        "    ):\n",
        "        for data_type in ['Train', 'Val']:\n",
        "            for label in ['Loss', 'Acc']:\n",
        "                try:\n",
        "                    pref = 'val_' if data_type == 'Val' else ''\n",
        "                    log[f'{title} {data_type} {label}'] = hist.history[f'{pref}{label.lower()}'][i]\n",
        "                except:\n",
        "                    continue\n",
        "    wandb.log(log)"
      ],
      "metadata": {
        "id": "LlsgPZOdF4Jo"
      },
      "execution_count": 178,
      "outputs": []
    }
  ],
  "metadata": {
    "colab": {
      "provenance": [],
      "gpuType": "T4"
    },
    "kernelspec": {
      "display_name": "imdb-sentiment",
      "language": "python",
      "name": "python3"
    },
    "language_info": {
      "codemirror_mode": {
        "name": "ipython",
        "version": 3
      },
      "file_extension": ".py",
      "mimetype": "text/x-python",
      "name": "python",
      "nbconvert_exporter": "python",
      "pygments_lexer": "ipython3",
      "version": "3.9.16"
    },
    "orig_nbformat": 4,
    "accelerator": "GPU",
    "gpuClass": "standard",
    "widgets": {
      "application/vnd.jupyter.widget-state+json": {
        "c7bac3917be04dd790b37145a35b6a8f": {
          "model_module": "@jupyter-widgets/controls",
          "model_name": "VBoxModel",
          "model_module_version": "1.5.0",
          "state": {
            "_dom_classes": [],
            "_model_module": "@jupyter-widgets/controls",
            "_model_module_version": "1.5.0",
            "_model_name": "VBoxModel",
            "_view_count": null,
            "_view_module": "@jupyter-widgets/controls",
            "_view_module_version": "1.5.0",
            "_view_name": "VBoxView",
            "box_style": "",
            "children": [
              "IPY_MODEL_c90cce2a779445a68cfa82fe92aca910",
              "IPY_MODEL_bc9450c4984b4b9ab4d5fc39fa1b0b8a"
            ],
            "layout": "IPY_MODEL_e0b71b836c204157ad211819025a9c4c"
          }
        },
        "c90cce2a779445a68cfa82fe92aca910": {
          "model_module": "@jupyter-widgets/controls",
          "model_name": "LabelModel",
          "model_module_version": "1.5.0",
          "state": {
            "_dom_classes": [],
            "_model_module": "@jupyter-widgets/controls",
            "_model_module_version": "1.5.0",
            "_model_name": "LabelModel",
            "_view_count": null,
            "_view_module": "@jupyter-widgets/controls",
            "_view_module_version": "1.5.0",
            "_view_name": "LabelView",
            "description": "",
            "description_tooltip": null,
            "layout": "IPY_MODEL_facc332e75e546699659b34c89224e2b",
            "placeholder": "​",
            "style": "IPY_MODEL_db4c6a9f194f4786afdcd22ac550c5e2",
            "value": "0.001 MB of 0.001 MB uploaded (0.000 MB deduped)\r"
          }
        },
        "bc9450c4984b4b9ab4d5fc39fa1b0b8a": {
          "model_module": "@jupyter-widgets/controls",
          "model_name": "FloatProgressModel",
          "model_module_version": "1.5.0",
          "state": {
            "_dom_classes": [],
            "_model_module": "@jupyter-widgets/controls",
            "_model_module_version": "1.5.0",
            "_model_name": "FloatProgressModel",
            "_view_count": null,
            "_view_module": "@jupyter-widgets/controls",
            "_view_module_version": "1.5.0",
            "_view_name": "ProgressView",
            "bar_style": "",
            "description": "",
            "description_tooltip": null,
            "layout": "IPY_MODEL_7cd9ccb198424762a94ff02ea23bf925",
            "max": 1,
            "min": 0,
            "orientation": "horizontal",
            "style": "IPY_MODEL_ad02ffafe4884f67baf484ef45d843df",
            "value": 1
          }
        },
        "e0b71b836c204157ad211819025a9c4c": {
          "model_module": "@jupyter-widgets/base",
          "model_name": "LayoutModel",
          "model_module_version": "1.2.0",
          "state": {
            "_model_module": "@jupyter-widgets/base",
            "_model_module_version": "1.2.0",
            "_model_name": "LayoutModel",
            "_view_count": null,
            "_view_module": "@jupyter-widgets/base",
            "_view_module_version": "1.2.0",
            "_view_name": "LayoutView",
            "align_content": null,
            "align_items": null,
            "align_self": null,
            "border": null,
            "bottom": null,
            "display": null,
            "flex": null,
            "flex_flow": null,
            "grid_area": null,
            "grid_auto_columns": null,
            "grid_auto_flow": null,
            "grid_auto_rows": null,
            "grid_column": null,
            "grid_gap": null,
            "grid_row": null,
            "grid_template_areas": null,
            "grid_template_columns": null,
            "grid_template_rows": null,
            "height": null,
            "justify_content": null,
            "justify_items": null,
            "left": null,
            "margin": null,
            "max_height": null,
            "max_width": null,
            "min_height": null,
            "min_width": null,
            "object_fit": null,
            "object_position": null,
            "order": null,
            "overflow": null,
            "overflow_x": null,
            "overflow_y": null,
            "padding": null,
            "right": null,
            "top": null,
            "visibility": null,
            "width": null
          }
        },
        "facc332e75e546699659b34c89224e2b": {
          "model_module": "@jupyter-widgets/base",
          "model_name": "LayoutModel",
          "model_module_version": "1.2.0",
          "state": {
            "_model_module": "@jupyter-widgets/base",
            "_model_module_version": "1.2.0",
            "_model_name": "LayoutModel",
            "_view_count": null,
            "_view_module": "@jupyter-widgets/base",
            "_view_module_version": "1.2.0",
            "_view_name": "LayoutView",
            "align_content": null,
            "align_items": null,
            "align_self": null,
            "border": null,
            "bottom": null,
            "display": null,
            "flex": null,
            "flex_flow": null,
            "grid_area": null,
            "grid_auto_columns": null,
            "grid_auto_flow": null,
            "grid_auto_rows": null,
            "grid_column": null,
            "grid_gap": null,
            "grid_row": null,
            "grid_template_areas": null,
            "grid_template_columns": null,
            "grid_template_rows": null,
            "height": null,
            "justify_content": null,
            "justify_items": null,
            "left": null,
            "margin": null,
            "max_height": null,
            "max_width": null,
            "min_height": null,
            "min_width": null,
            "object_fit": null,
            "object_position": null,
            "order": null,
            "overflow": null,
            "overflow_x": null,
            "overflow_y": null,
            "padding": null,
            "right": null,
            "top": null,
            "visibility": null,
            "width": null
          }
        },
        "db4c6a9f194f4786afdcd22ac550c5e2": {
          "model_module": "@jupyter-widgets/controls",
          "model_name": "DescriptionStyleModel",
          "model_module_version": "1.5.0",
          "state": {
            "_model_module": "@jupyter-widgets/controls",
            "_model_module_version": "1.5.0",
            "_model_name": "DescriptionStyleModel",
            "_view_count": null,
            "_view_module": "@jupyter-widgets/base",
            "_view_module_version": "1.2.0",
            "_view_name": "StyleView",
            "description_width": ""
          }
        },
        "7cd9ccb198424762a94ff02ea23bf925": {
          "model_module": "@jupyter-widgets/base",
          "model_name": "LayoutModel",
          "model_module_version": "1.2.0",
          "state": {
            "_model_module": "@jupyter-widgets/base",
            "_model_module_version": "1.2.0",
            "_model_name": "LayoutModel",
            "_view_count": null,
            "_view_module": "@jupyter-widgets/base",
            "_view_module_version": "1.2.0",
            "_view_name": "LayoutView",
            "align_content": null,
            "align_items": null,
            "align_self": null,
            "border": null,
            "bottom": null,
            "display": null,
            "flex": null,
            "flex_flow": null,
            "grid_area": null,
            "grid_auto_columns": null,
            "grid_auto_flow": null,
            "grid_auto_rows": null,
            "grid_column": null,
            "grid_gap": null,
            "grid_row": null,
            "grid_template_areas": null,
            "grid_template_columns": null,
            "grid_template_rows": null,
            "height": null,
            "justify_content": null,
            "justify_items": null,
            "left": null,
            "margin": null,
            "max_height": null,
            "max_width": null,
            "min_height": null,
            "min_width": null,
            "object_fit": null,
            "object_position": null,
            "order": null,
            "overflow": null,
            "overflow_x": null,
            "overflow_y": null,
            "padding": null,
            "right": null,
            "top": null,
            "visibility": null,
            "width": null
          }
        },
        "ad02ffafe4884f67baf484ef45d843df": {
          "model_module": "@jupyter-widgets/controls",
          "model_name": "ProgressStyleModel",
          "model_module_version": "1.5.0",
          "state": {
            "_model_module": "@jupyter-widgets/controls",
            "_model_module_version": "1.5.0",
            "_model_name": "ProgressStyleModel",
            "_view_count": null,
            "_view_module": "@jupyter-widgets/base",
            "_view_module_version": "1.2.0",
            "_view_name": "StyleView",
            "bar_color": null,
            "description_width": ""
          }
        }
      }
    }
  },
  "nbformat": 4,
  "nbformat_minor": 0
}