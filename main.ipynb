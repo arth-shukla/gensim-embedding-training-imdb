{
  "cells": [
    {
      "attachments": {},
      "cell_type": "markdown",
      "metadata": {
        "id": "FYTZ-x5qa0y7"
      },
      "source": [
        "# IMDB Review Sentiment Analysis"
      ]
    },
    {
      "attachments": {},
      "cell_type": "markdown",
      "metadata": {
        "id": "_ybWbh7Xa0y9"
      },
      "source": [
        "## Dataset and Exploration"
      ]
    },
    {
      "cell_type": "code",
      "execution_count": 4,
      "metadata": {
        "id": "x81UBNQ9a0y8"
      },
      "outputs": [],
      "source": [
        "import pandas as pd"
      ]
    },
    {
      "cell_type": "code",
      "execution_count": 5,
      "metadata": {
        "id": "s93hN8e3a0y9"
      },
      "outputs": [],
      "source": [
        "df = pd.read_csv('./data/IMDB_Dataset.csv')"
      ]
    },
    {
      "cell_type": "code",
      "execution_count": 6,
      "metadata": {
        "id": "er7K4C7Ba0y9",
        "outputId": "12288038-fe0a-4202-fd75-c8aa3af5644b"
      },
      "outputs": [
        {
          "data": {
            "text/plain": [
              "(50000, 2)"
            ]
          },
          "execution_count": 6,
          "metadata": {},
          "output_type": "execute_result"
        }
      ],
      "source": [
        "df.shape"
      ]
    },
    {
      "cell_type": "code",
      "execution_count": 7,
      "metadata": {
        "id": "x54rpy3ia0y9",
        "outputId": "aaff6460-200d-49e9-9437-9fe64505004d"
      },
      "outputs": [
        {
          "data": {
            "text/html": [
              "<div>\n",
              "<style scoped>\n",
              "    .dataframe tbody tr th:only-of-type {\n",
              "        vertical-align: middle;\n",
              "    }\n",
              "\n",
              "    .dataframe tbody tr th {\n",
              "        vertical-align: top;\n",
              "    }\n",
              "\n",
              "    .dataframe thead th {\n",
              "        text-align: right;\n",
              "    }\n",
              "</style>\n",
              "<table border=\"1\" class=\"dataframe\">\n",
              "  <thead>\n",
              "    <tr style=\"text-align: right;\">\n",
              "      <th></th>\n",
              "      <th>review</th>\n",
              "      <th>sentiment</th>\n",
              "    </tr>\n",
              "  </thead>\n",
              "  <tbody>\n",
              "    <tr>\n",
              "      <th>0</th>\n",
              "      <td>One of the other reviewers has mentioned that ...</td>\n",
              "      <td>positive</td>\n",
              "    </tr>\n",
              "    <tr>\n",
              "      <th>1</th>\n",
              "      <td>A wonderful little production. &lt;br /&gt;&lt;br /&gt;The...</td>\n",
              "      <td>positive</td>\n",
              "    </tr>\n",
              "    <tr>\n",
              "      <th>2</th>\n",
              "      <td>I thought this was a wonderful way to spend ti...</td>\n",
              "      <td>positive</td>\n",
              "    </tr>\n",
              "    <tr>\n",
              "      <th>3</th>\n",
              "      <td>Basically there's a family where a little boy ...</td>\n",
              "      <td>negative</td>\n",
              "    </tr>\n",
              "    <tr>\n",
              "      <th>4</th>\n",
              "      <td>Petter Mattei's \"Love in the Time of Money\" is...</td>\n",
              "      <td>positive</td>\n",
              "    </tr>\n",
              "  </tbody>\n",
              "</table>\n",
              "</div>"
            ],
            "text/plain": [
              "                                              review sentiment\n",
              "0  One of the other reviewers has mentioned that ...  positive\n",
              "1  A wonderful little production. <br /><br />The...  positive\n",
              "2  I thought this was a wonderful way to spend ti...  positive\n",
              "3  Basically there's a family where a little boy ...  negative\n",
              "4  Petter Mattei's \"Love in the Time of Money\" is...  positive"
            ]
          },
          "execution_count": 7,
          "metadata": {},
          "output_type": "execute_result"
        }
      ],
      "source": [
        "df.head(5)"
      ]
    },
    {
      "cell_type": "code",
      "execution_count": 8,
      "metadata": {
        "id": "Bx3wgQ4xa0y9"
      },
      "outputs": [],
      "source": [
        "df.loc[df['sentiment'] == 'positive', 'sentiment'] = 1\n",
        "df.loc[df['sentiment'] == 'negative', 'sentiment'] = 0"
      ]
    },
    {
      "cell_type": "code",
      "execution_count": 9,
      "metadata": {
        "id": "I43GIVUFa0y9",
        "outputId": "69da5d1d-4675-44f5-98c8-9262e7add23b"
      },
      "outputs": [
        {
          "data": {
            "text/html": [
              "<div>\n",
              "<style scoped>\n",
              "    .dataframe tbody tr th:only-of-type {\n",
              "        vertical-align: middle;\n",
              "    }\n",
              "\n",
              "    .dataframe tbody tr th {\n",
              "        vertical-align: top;\n",
              "    }\n",
              "\n",
              "    .dataframe thead th {\n",
              "        text-align: right;\n",
              "    }\n",
              "</style>\n",
              "<table border=\"1\" class=\"dataframe\">\n",
              "  <thead>\n",
              "    <tr style=\"text-align: right;\">\n",
              "      <th></th>\n",
              "      <th>review</th>\n",
              "      <th>sentiment</th>\n",
              "    </tr>\n",
              "  </thead>\n",
              "  <tbody>\n",
              "    <tr>\n",
              "      <th>0</th>\n",
              "      <td>One of the other reviewers has mentioned that ...</td>\n",
              "      <td>1</td>\n",
              "    </tr>\n",
              "    <tr>\n",
              "      <th>1</th>\n",
              "      <td>A wonderful little production. &lt;br /&gt;&lt;br /&gt;The...</td>\n",
              "      <td>1</td>\n",
              "    </tr>\n",
              "    <tr>\n",
              "      <th>2</th>\n",
              "      <td>I thought this was a wonderful way to spend ti...</td>\n",
              "      <td>1</td>\n",
              "    </tr>\n",
              "    <tr>\n",
              "      <th>3</th>\n",
              "      <td>Basically there's a family where a little boy ...</td>\n",
              "      <td>0</td>\n",
              "    </tr>\n",
              "    <tr>\n",
              "      <th>4</th>\n",
              "      <td>Petter Mattei's \"Love in the Time of Money\" is...</td>\n",
              "      <td>1</td>\n",
              "    </tr>\n",
              "  </tbody>\n",
              "</table>\n",
              "</div>"
            ],
            "text/plain": [
              "                                              review sentiment\n",
              "0  One of the other reviewers has mentioned that ...         1\n",
              "1  A wonderful little production. <br /><br />The...         1\n",
              "2  I thought this was a wonderful way to spend ti...         1\n",
              "3  Basically there's a family where a little boy ...         0\n",
              "4  Petter Mattei's \"Love in the Time of Money\" is...         1"
            ]
          },
          "execution_count": 9,
          "metadata": {},
          "output_type": "execute_result"
        }
      ],
      "source": [
        "df.head(5)"
      ]
    },
    {
      "attachments": {},
      "cell_type": "markdown",
      "metadata": {
        "id": "gUkRKXeLa0y-"
      },
      "source": [
        "## Preprocessing"
      ]
    },
    {
      "cell_type": "code",
      "execution_count": 10,
      "metadata": {
        "id": "6ifNIaBKa0y-",
        "outputId": "a7ac69d5-0c1e-4b45-a01b-10f4cfe915ce"
      },
      "outputs": [
        {
          "name": "stderr",
          "output_type": "stream",
          "text": [
            "[nltk_data] Downloading package stopwords to /Users/arths/nltk_data...\n",
            "[nltk_data]   Package stopwords is already up-to-date!\n",
            "[nltk_data] Downloading package wordnet to /Users/arths/nltk_data...\n",
            "[nltk_data]   Package wordnet is already up-to-date!\n",
            "[nltk_data] Downloading package omw-1.4 to /Users/arths/nltk_data...\n",
            "[nltk_data]   Package omw-1.4 is already up-to-date!\n"
          ]
        },
        {
          "data": {
            "text/plain": [
              "True"
            ]
          },
          "execution_count": 10,
          "metadata": {},
          "output_type": "execute_result"
        }
      ],
      "source": [
        "import re\n",
        "import nltk\n",
        "from nltk.corpus import stopwords\n",
        "from nltk.stem import WordNetLemmatizer\n",
        "from tqdm import tqdm\n",
        "nltk.download('stopwords')\n",
        "nltk.download('wordnet')\n",
        "nltk.download('omw-1.4')"
      ]
    },
    {
      "cell_type": "code",
      "execution_count": 11,
      "metadata": {
        "id": "X61kEtvOa0y-"
      },
      "outputs": [],
      "source": [
        "def clean_strings(df):\n",
        "    def remove_tags(text):\n",
        "        tag_pattern = re.compile(r'<[^>]+>')\n",
        "        return tag_pattern.sub('', text)\n",
        "    \n",
        "    def remove_stop_words(text):\n",
        "        stop_pattern = re.compile(r'\\b(' + r'|'.join(stopwords.words('english')) + r')\\b\\s*')\n",
        "        return stop_pattern.sub('', text)\n",
        "\n",
        "    corpus = []\n",
        "    text_data = ''\n",
        "    for i in tqdm(range(len(df.index)), ascii=False, ncols=100):\n",
        "        \n",
        "        # remove html tags (since this is webscraped)\n",
        "        text_data = remove_tags(df['review'][i])\n",
        "\n",
        "        # remove any non-text characters\n",
        "        text_data = re.sub('[^a-zA-Z]', ' ', text_data)\n",
        "\n",
        "        # lowercase\n",
        "        text_data = text_data.lower()\n",
        "\n",
        "        # remove stopwords\n",
        "        text_data = remove_stop_words(text_data)\n",
        "        \n",
        "        # lower case and make array\n",
        "        text_data = text_data.split()\n",
        "\n",
        "        # lemmatize each word\n",
        "        wl = WordNetLemmatizer()\n",
        "        text_data = [wl.lemmatize(word) for word in text_data]\n",
        "\n",
        "        # append to corpus\n",
        "        corpus.append(text_data)\n",
        "\n",
        "    return corpus"
      ]
    },
    {
      "cell_type": "code",
      "execution_count": 12,
      "metadata": {
        "id": "g_KCyVWqa0y-",
        "outputId": "c8a88af5-4343-4ce2-8a47-2e9eb820de4a"
      },
      "outputs": [
        {
          "name": "stderr",
          "output_type": "stream",
          "text": [
            "100%|███████████████████████████████████████████████████████| 50000/50000 [00:33<00:00, 1509.03it/s]\n"
          ]
        }
      ],
      "source": [
        "cleaned_sentences = clean_strings(df)"
      ]
    },
    {
      "cell_type": "code",
      "execution_count": 13,
      "metadata": {
        "id": "FR-x8F0Za0y-",
        "outputId": "fe8b71ff-cbc8-494c-aaa1-18e52eba368d"
      },
      "outputs": [
        {
          "name": "stdout",
          "output_type": "stream",
          "text": [
            "One of the other reviewers has mentioned that after watching just 1 Oz episode you'll be hooked. They are right, as this is exactly what happened with me.<br /><br />The first thing that struck me about Oz was its brutality and unflinching scenes of violence, which set in right from the word GO. Trust me, this is not a show for the faint hearted or timid. This show pulls no punches with regards to drugs, sex or violence. Its is hardcore, in the classic use of the word.<br /><br />It is called OZ as that is the nickname given to the Oswald Maximum Security State Penitentary. It focuses mainly on Emerald City, an experimental section of the prison where all the cells have glass fronts and face inwards, so privacy is not high on the agenda. Em City is home to many..Aryans, Muslims, gangstas, Latinos, Christians, Italians, Irish and more....so scuffles, death stares, dodgy dealings and shady agreements are never far away.<br /><br />I would say the main appeal of the show is due to the fact that it goes where other shows wouldn't dare. Forget pretty pictures painted for mainstream audiences, forget charm, forget romance...OZ doesn't mess around. The first episode I ever saw struck me as so nasty it was surreal, I couldn't say I was ready for it, but as I watched more, I developed a taste for Oz, and got accustomed to the high levels of graphic violence. Not just violence, but injustice (crooked guards who'll be sold out for a nickel, inmates who'll kill on order and get away with it, well mannered, middle class inmates being turned into prison bitches due to their lack of street skills or prison experience) Watching Oz, you may become comfortable with what is uncomfortable viewing....thats if you can get in touch with your darker side.\n",
            "['one', 'reviewer', 'mentioned', 'watching', 'oz', 'episode', 'hooked', 'right', 'exactly', 'happened', 'first', 'thing', 'struck', 'oz', 'brutality', 'unflinching', 'scene', 'violence', 'set', 'right', 'word', 'go', 'trust', 'show', 'faint', 'hearted', 'timid', 'show', 'pull', 'punch', 'regard', 'drug', 'sex', 'violence', 'hardcore', 'classic', 'use', 'word', 'called', 'oz', 'nickname', 'given', 'oswald', 'maximum', 'security', 'state', 'penitentary', 'focus', 'mainly', 'emerald', 'city', 'experimental', 'section', 'prison', 'cell', 'glass', 'front', 'face', 'inwards', 'privacy', 'high', 'agenda', 'em', 'city', 'home', 'many', 'aryan', 'muslim', 'gangsta', 'latino', 'christian', 'italian', 'irish', 'scuffle', 'death', 'stare', 'dodgy', 'dealing', 'shady', 'agreement', 'never', 'far', 'away', 'would', 'say', 'main', 'appeal', 'show', 'due', 'fact', 'go', 'show', 'dare', 'forget', 'pretty', 'picture', 'painted', 'mainstream', 'audience', 'forget', 'charm', 'forget', 'romance', 'oz', 'mess', 'around', 'first', 'episode', 'ever', 'saw', 'struck', 'nasty', 'surreal', 'say', 'ready', 'watched', 'developed', 'taste', 'oz', 'got', 'accustomed', 'high', 'level', 'graphic', 'violence', 'violence', 'injustice', 'crooked', 'guard', 'sold', 'nickel', 'inmate', 'kill', 'order', 'get', 'away', 'well', 'mannered', 'middle', 'class', 'inmate', 'turned', 'prison', 'bitch', 'due', 'lack', 'street', 'skill', 'prison', 'experience', 'watching', 'oz', 'may', 'become', 'comfortable', 'uncomfortable', 'viewing', 'thats', 'get', 'touch', 'darker', 'side']\n"
          ]
        }
      ],
      "source": [
        "print(df['review'][0])\n",
        "print(cleaned_sentences[0])"
      ]
    },
    {
      "attachments": {},
      "cell_type": "markdown",
      "metadata": {
        "id": "vPRlr_u6a0y-"
      },
      "source": [
        "## Transfer Learning w/ GLoVe"
      ]
    },
    {
      "cell_type": "code",
      "execution_count": 14,
      "metadata": {
        "id": "p21oBuvfa0y-"
      },
      "outputs": [],
      "source": [
        "from gensim.test.utils import get_tmpfile, datapath\n",
        "from gensim.models import KeyedVectors, Word2Vec\n",
        "from gensim.scripts.glove2word2vec import glove2word2vec\n",
        "import os\n",
        "import numpy as np"
      ]
    },
    {
      "cell_type": "code",
      "execution_count": null,
      "metadata": {},
      "outputs": [],
      "source": [
        "# download 6 billion glove dataset from https://nlp.stanford.edu/data/glove.6B.zip"
      ]
    },
    {
      "cell_type": "code",
      "execution_count": 15,
      "metadata": {
        "id": "_L0_sToKa0y-",
        "outputId": "7443ff04-830f-4c9b-cf5b-0e22e430421d"
      },
      "outputs": [
        {
          "name": "stderr",
          "output_type": "stream",
          "text": [
            "/var/folders/bm/v9sftty97f1b1pjtvxw68byc0000gn/T/ipykernel_3488/1871904394.py:6: DeprecationWarning: Call to deprecated `glove2word2vec` (KeyedVectors.load_word2vec_format(.., binary=False, no_header=True) loads GLoVE text vectors.).\n",
            "  _ = glove2word2vec(glove_file, glove2vec_file)\n"
          ]
        }
      ],
      "source": [
        "# get glove file and make temp glove word2vec file\n",
        "glove_file = datapath(os.path.abspath('./glove.6B.100d.txt'))\n",
        "glove2vec_file = get_tmpfile(os.path.abspath('./glove_word2vec_6B.100d.txt'))\n",
        "\n",
        "# convert glove embeddings to word2vec format\n",
        "_ = glove2word2vec(glove_file, glove2vec_file)\n",
        "glove_vectors = KeyedVectors.load_word2vec_format(glove2vec_file)"
      ]
    },
    {
      "cell_type": "code",
      "execution_count": 112,
      "metadata": {
        "id": "G6Kmbw0oa0y-"
      },
      "outputs": [],
      "source": [
        "# build initial embedding on our dataset\n",
        "base_model = Word2Vec(vector_size=100, min_count=5)\n",
        "base_model.build_vocab(cleaned_sentences)\n",
        "\n",
        "# train on our dataset\n",
        "base_model.train(cleaned_sentences, total_examples=base_model.corpus_count, epochs=base_model.epochs)\n",
        "base_model_wv = base_model.wv\n",
        "\n",
        "del base_model"
      ]
    },
    {
      "cell_type": "code",
      "execution_count": 113,
      "metadata": {
        "id": "IqXJiiBpa0y_"
      },
      "outputs": [],
      "source": [
        "# build initial embedding on our dataset\n",
        "glove_model = Word2Vec(vector_size=100, min_count=5)\n",
        "glove_model.build_vocab(cleaned_sentences)\n",
        "total_examples = glove_model.corpus_count\n",
        "\n",
        "# add GLoVe vocab and weights\n",
        "glove_model.build_vocab(glove_vectors.index_to_key, update=True)\n",
        "\n",
        "# # train on dataset\n",
        "glove_model.train(cleaned_sentences, total_examples=total_examples, epochs=glove_model.epochs)\n",
        "glove_model_wv = glove_model.wv\n",
        "\n",
        "del glove_model"
      ]
    },
    {
      "cell_type": "code",
      "execution_count": 114,
      "metadata": {
        "id": "jl1oqSlea0y_",
        "outputId": "e1a14493-1395-4b80-9420-e40c6cd1788d"
      },
      "outputs": [
        {
          "data": {
            "text/plain": [
              "[('romantic', 0.822129487991333),\n",
              " ('triangle', 0.6487324833869934),\n",
              " ('intrigue', 0.599744975566864),\n",
              " ('drama', 0.5786858797073364),\n",
              " ('friendship', 0.5746517181396484),\n",
              " ('screwball', 0.5686193108558655),\n",
              " ('bittersweet', 0.5652892589569092),\n",
              " ('sentimental', 0.5648941397666931),\n",
              " ('tale', 0.5623289942741394),\n",
              " ('adventure', 0.5554719567298889)]"
            ]
          },
          "execution_count": 114,
          "metadata": {},
          "output_type": "execute_result"
        }
      ],
      "source": [
        "base_model_wv.most_similar('romance')"
      ]
    },
    {
      "cell_type": "code",
      "execution_count": 115,
      "metadata": {
        "id": "dA6DTh1Ba0y_",
        "outputId": "0f1190f4-1db8-4fae-b7a7-a5ab20577fc7"
      },
      "outputs": [
        {
          "data": {
            "text/plain": [
              "[('romantic', 0.8137059211730957),\n",
              " ('triangle', 0.6177476644515991),\n",
              " ('fairytale', 0.6133526563644409),\n",
              " ('drama', 0.6042848229408264),\n",
              " ('intrigue', 0.6025968790054321),\n",
              " ('screwball', 0.5895823240280151),\n",
              " ('bittersweet', 0.5888437032699585),\n",
              " ('sappy', 0.5846787095069885),\n",
              " ('sentimental', 0.5700287818908691),\n",
              " ('sweet', 0.5632114410400391)]"
            ]
          },
          "execution_count": 115,
          "metadata": {},
          "output_type": "execute_result"
        }
      ],
      "source": [
        "glove_model_wv.most_similar('romance')"
      ]
    },
    {
      "attachments": {},
      "cell_type": "markdown",
      "metadata": {
        "id": "x-KFwzx3a0y_"
      },
      "source": [
        "## Preparing Data"
      ]
    },
    {
      "cell_type": "code",
      "execution_count": 116,
      "metadata": {
        "id": "II4lB0bCa0y_",
        "outputId": "ac0ab835-5609-4d66-a8b4-ec99018c58ec"
      },
      "outputs": [],
      "source": [
        "from sklearn.model_selection import train_test_split\n",
        "from keras.preprocessing.text import Tokenizer\n",
        "from keras.utils import pad_sequences"
      ]
    },
    {
      "cell_type": "code",
      "execution_count": 117,
      "metadata": {},
      "outputs": [],
      "source": [
        "def prep_data(embedding_model_wv, random_state=19):\n",
        "\n",
        "    # cleaned strings\n",
        "    X_raw = cleaned_sentences\n",
        "    # 0 for negative, 1 for positive\n",
        "    y_raw = df['sentiment']\n",
        "\n",
        "\n",
        "    # split randomly\n",
        "    X_train, X_test, y_train, y_test = train_test_split(X_raw, y_raw, test_size=0.2, random_state=19)\n",
        "\n",
        "\n",
        "    # tokenize using embedding model\n",
        "    word_tokenizer = Tokenizer()\n",
        "    word_tokenizer.word_index = embedding_model_wv.key_to_index\n",
        "\n",
        "    X_train = word_tokenizer.texts_to_sequences(X_train)\n",
        "    X_test = word_tokenizer.texts_to_sequences(X_test)\n",
        "\n",
        "    maxlen = 0\n",
        "    for X in X_train:\n",
        "        maxlen = max(maxlen, len(X))\n",
        "\n",
        "    # pad all sequences and convert to numpy arrays\n",
        "    X_train = pad_sequences(X_train, padding='post', maxlen=maxlen, value=len(embedding_model_wv.key_to_index))\n",
        "    X_test = pad_sequences(X_test, padding='post', maxlen=maxlen, value=len(embedding_model_wv.key_to_index))\n",
        "\n",
        "    X_train, y_train = np.array(X_train, dtype=np.int64), np.array(y_train, dtype=np.int64)\n",
        "    X_test, y_test = np.array(X_test, dtype=np.int64), np.array(y_test, dtype=np.int64)\n",
        "\n",
        "    \n",
        "    # create embedding matrix with extra row for padding\n",
        "    glove_embedding = embedding_model_wv.vectors\n",
        "    pad_embedding = np.zeros((1, glove_embedding.shape[1]))\n",
        "\n",
        "    embedding_matrix = np.vstack((glove_embedding, pad_embedding))\n",
        "\n",
        "\n",
        "    return X_train, X_test, y_train, y_test, embedding_matrix"
      ]
    },
    {
      "cell_type": "code",
      "execution_count": 118,
      "metadata": {
        "id": "UPBYlC23a0y_",
        "outputId": "ebbd5322-b8b0-463e-9414-128491aa8154"
      },
      "outputs": [],
      "source": [
        "base_X_train, base_X_test, base_y_train, base_y_test, base_embedding = prep_data(base_model_wv)\n",
        "glove_X_train, glove_X_test, glove_y_train, glove_y_test, glove_embedding = prep_data(glove_model_wv)"
      ]
    },
    {
      "attachments": {},
      "cell_type": "markdown",
      "metadata": {
        "id": "ly7m9yFRa0y_"
      },
      "source": [
        "## Build and Train Models"
      ]
    },
    {
      "cell_type": "code",
      "execution_count": 119,
      "metadata": {
        "id": "Rq5YGdBWa0y_"
      },
      "outputs": [],
      "source": [
        "from keras.models import Sequential\n",
        "from keras.layers.core import Activation, Dropout, Dense\n",
        "from keras.layers import Flatten, GlobalMaxPooling1D, Embedding, Conv1D, LSTM"
      ]
    },
    {
      "cell_type": "code",
      "execution_count": 132,
      "metadata": {},
      "outputs": [],
      "source": [
        "def train_and_test_model(model, X_train, X_test, y_train, y_test):\n",
        "\n",
        "    print('Training Model...')\n",
        "    model_hist = model.fit(X_train, y_train, batch_size=64, epochs=5, verbose=1, validation_split=0.2)\n",
        "\n",
        "    print('Testing Model...')\n",
        "    score = model.evaluate(X_test, y_test, verbose=1)\n",
        "\n",
        "    return model_hist, score"
      ]
    },
    {
      "attachments": {},
      "cell_type": "markdown",
      "metadata": {
        "id": "WxGHYgxla0y_"
      },
      "source": [
        "### CNN"
      ]
    },
    {
      "cell_type": "code",
      "execution_count": 120,
      "metadata": {
        "id": "FjR8qkGja0zA"
      },
      "outputs": [],
      "source": [
        "def build_cnn(embedding, X_train):\n",
        "    cnn = Sequential(\n",
        "        layers=(\n",
        "            # use our GLoVe-based transfer-learned embedding\n",
        "            Embedding(*embedding.shape, weights=[embedding], input_length=X_train.shape[1], trainable=False),\n",
        "            # convolution to 128-dim space\n",
        "            Conv1D(128, 5, activation='relu'),\n",
        "            GlobalMaxPooling1D(),\n",
        "            Dense(1, activation='sigmoid')\n",
        "        )\n",
        "    )\n",
        "\n",
        "    cnn.compile(optimizer='adam', loss='binary_crossentropy', metrics=['acc'])\n",
        "\n",
        "    print(cnn.summary())\n",
        "\n",
        "    return cnn"
      ]
    },
    {
      "cell_type": "code",
      "execution_count": 122,
      "metadata": {},
      "outputs": [
        {
          "name": "stdout",
          "output_type": "stream",
          "text": [
            "Model: \"sequential_5\"\n",
            "_________________________________________________________________\n",
            " Layer (type)                Output Shape              Param #   \n",
            "=================================================================\n",
            " embedding_5 (Embedding)     (None, 1362, 100)         3474600   \n",
            "                                                                 \n",
            " conv1d_5 (Conv1D)           (None, 1358, 128)         64128     \n",
            "                                                                 \n",
            " global_max_pooling1d_5 (Glo  (None, 128)              0         \n",
            " balMaxPooling1D)                                                \n",
            "                                                                 \n",
            " dense_5 (Dense)             (None, 1)                 129       \n",
            "                                                                 \n",
            "=================================================================\n",
            "Total params: 3,538,857\n",
            "Trainable params: 64,257\n",
            "Non-trainable params: 3,474,600\n",
            "_________________________________________________________________\n",
            "None\n",
            "Training CNN...\n",
            "Epoch 1/5\n",
            "500/500 [==============================] - 80s 159ms/step - loss: 0.3707 - acc: 0.8371 - val_loss: 0.3130 - val_acc: 0.8683\n",
            "Epoch 2/5\n",
            "500/500 [==============================] - 81s 163ms/step - loss: 0.2442 - acc: 0.9014 - val_loss: 0.3110 - val_acc: 0.8683\n",
            "Epoch 3/5\n",
            "500/500 [==============================] - 82s 164ms/step - loss: 0.1799 - acc: 0.9339 - val_loss: 0.3108 - val_acc: 0.8737\n",
            "Epoch 4/5\n",
            "500/500 [==============================] - 82s 164ms/step - loss: 0.1298 - acc: 0.9579 - val_loss: 0.3337 - val_acc: 0.8711\n",
            "Epoch 5/5\n",
            "500/500 [==============================] - 82s 164ms/step - loss: 0.0834 - acc: 0.9799 - val_loss: 0.3446 - val_acc: 0.8714\n",
            "Testing CNN...\n",
            "313/313 [==============================] - 9s 30ms/step - loss: 0.3567 - acc: 0.8687\n"
          ]
        }
      ],
      "source": [
        "base_cnn = build_cnn(base_embedding, base_X_train)\n",
        "\n",
        "base_cnn_hist, base_cnn_score = train_and_test_model(base_cnn, base_X_train, base_X_test, base_y_train, base_y_test)"
      ]
    },
    {
      "cell_type": "code",
      "execution_count": 123,
      "metadata": {},
      "outputs": [
        {
          "name": "stdout",
          "output_type": "stream",
          "text": [
            "Model: \"sequential_6\"\n",
            "_________________________________________________________________\n",
            " Layer (type)                Output Shape              Param #   \n",
            "=================================================================\n",
            " embedding_6 (Embedding)     (None, 1362, 100)         3491400   \n",
            "                                                                 \n",
            " conv1d_6 (Conv1D)           (None, 1358, 128)         64128     \n",
            "                                                                 \n",
            " global_max_pooling1d_6 (Glo  (None, 128)              0         \n",
            " balMaxPooling1D)                                                \n",
            "                                                                 \n",
            " dense_6 (Dense)             (None, 1)                 129       \n",
            "                                                                 \n",
            "=================================================================\n",
            "Total params: 3,555,657\n",
            "Trainable params: 64,257\n",
            "Non-trainable params: 3,491,400\n",
            "_________________________________________________________________\n",
            "None\n",
            "Training CNN...\n",
            "Epoch 1/5\n",
            "500/500 [==============================] - 82s 164ms/step - loss: 0.3655 - acc: 0.8376 - val_loss: 0.3467 - val_acc: 0.8499\n",
            "Epoch 2/5\n",
            "500/500 [==============================] - 81s 162ms/step - loss: 0.2486 - acc: 0.8987 - val_loss: 0.3182 - val_acc: 0.8684\n",
            "Epoch 3/5\n",
            "500/500 [==============================] - 81s 163ms/step - loss: 0.1910 - acc: 0.9288 - val_loss: 0.3171 - val_acc: 0.8721\n",
            "Epoch 4/5\n",
            "500/500 [==============================] - 82s 164ms/step - loss: 0.1381 - acc: 0.9545 - val_loss: 0.3221 - val_acc: 0.8710\n",
            "Epoch 5/5\n",
            "500/500 [==============================] - 84s 168ms/step - loss: 0.0913 - acc: 0.9763 - val_loss: 0.3389 - val_acc: 0.8730\n",
            "Testing CNN...\n",
            "313/313 [==============================] - 10s 31ms/step - loss: 0.3435 - acc: 0.8716\n"
          ]
        }
      ],
      "source": [
        "glove_cnn = build_cnn(glove_embedding, glove_X_train)\n",
        "\n",
        "glove_cnn_hist, glove_cnn_score = train_and_test_model(glove_cnn, glove_X_train, glove_X_test, glove_y_train, glove_y_test)"
      ]
    },
    {
      "attachments": {},
      "cell_type": "markdown",
      "metadata": {},
      "source": [
        "## LSTM"
      ]
    },
    {
      "cell_type": "code",
      "execution_count": 130,
      "metadata": {},
      "outputs": [],
      "source": [
        "def build_lstm(embedding, X_train):\n",
        "    lstm = Sequential(\n",
        "        layers=(\n",
        "            # use our GLoVe-based transfer-learned embedding\n",
        "            Embedding(*embedding.shape, weights=[embedding], input_length=X_train.shape[1], trainable=False),\n",
        "            # convolution to 128-dim space\n",
        "            LSTM(128),\n",
        "            Dense(1, activation='sigmoid')\n",
        "        )\n",
        "    )\n",
        "\n",
        "    lstm.compile(optimizer='adam', loss='binary_crossentropy', metrics=['acc'])\n",
        "\n",
        "    print(lstm.summary())\n",
        "\n",
        "    return lstm"
      ]
    },
    {
      "cell_type": "code",
      "execution_count": null,
      "metadata": {},
      "outputs": [],
      "source": [
        "base_lstm = build_lstm(base_embedding, base_X_train)\n",
        "\n",
        "base_lstm_hist, base_lstm_score = train_and_test_model(base_lstm, base_X_train, base_X_test, base_y_train, base_y_test)"
      ]
    },
    {
      "cell_type": "code",
      "execution_count": null,
      "metadata": {},
      "outputs": [],
      "source": [
        "glove_lstm = build_lstm(glove_embedding, glove_X_train)\n",
        "\n",
        "glove_lstm_hist, glove_lstm_score = train_and_test_model(glove_lstm, glove_X_train, glove_X_test, glove_y_train, glove_y_test)"
      ]
    }
  ],
  "metadata": {
    "colab": {
      "provenance": []
    },
    "kernelspec": {
      "display_name": "imdb-sentiment",
      "language": "python",
      "name": "python3"
    },
    "language_info": {
      "codemirror_mode": {
        "name": "ipython",
        "version": 3
      },
      "file_extension": ".py",
      "mimetype": "text/x-python",
      "name": "python",
      "nbconvert_exporter": "python",
      "pygments_lexer": "ipython3",
      "version": "3.9.16"
    },
    "orig_nbformat": 4
  },
  "nbformat": 4,
  "nbformat_minor": 0
}
